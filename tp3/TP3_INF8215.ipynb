{
  "nbformat": 4,
  "nbformat_minor": 0,
  "metadata": {
    "colab": {
      "name": "TP3_INF8215.ipynb",
      "provenance": [],
      "collapsed_sections": [],
      "toc_visible": true
    },
    "kernelspec": {
      "display_name": "Python 3",
      "language": "python",
      "name": "python3"
    },
    "language_info": {
      "codemirror_mode": {
        "name": "ipython",
        "version": 3
      },
      "file_extension": ".py",
      "mimetype": "text/x-python",
      "name": "python",
      "nbconvert_exporter": "python",
      "pygments_lexer": "ipython3",
      "version": "3.7.3"
    },
    "pycharm": {
      "stem_cell": {
        "cell_type": "raw",
        "metadata": {
          "collapsed": false
        },
        "source": []
      }
    }
  },
  "cells": [
    {
      "cell_type": "markdown",
      "metadata": {
        "colab_type": "text",
        "id": "5fHWJhwOXGzh"
      },
      "source": [
        "# INF8215 - Intelligence artif.: méthodes et algorithmes \n",
        "## Automne 2019 - TP3 - Apprentissage machine \n",
        "### Membres de l'équipe\n",
        "    - Yoan Gauthier - 1871346\n",
        "    - Adam Martin-Côté - 1798345\n",
        "\n",
        "Nom d'équipe sur Kaggle: On s'est pris à la dernière minute :(\n",
        "\n"
      ]
    },
    {
      "cell_type": "markdown",
      "metadata": {
        "colab_type": "text",
        "id": "TmGvqtSVgfXi"
      },
      "source": [
        "## Directives de remise\n",
        "Le travail sera réalisé avec la  même équipe que pour les TPs précédents. Vous remettrez ce fichier nommé TP3\\_NomDuMembre1\\_NomDuMembre2\\_NomDuMembre3.ipynb et vos fichiers de soumission csv dans la boîte de remise sur moodle. \n",
        "\n",
        "Tout devra être remis avant le **13 décembre à 23h55**. Tout travail en retard sera pénalisé d’une valeur de 10\\% par jour de retard.\n",
        "\n",
        "## Barème\n",
        "Partie 1: 9 points\n",
        "\n",
        "Partie 2: 9 points\n",
        "\n",
        "Partie 3: 2 points\n",
        "\n",
        "Bonus : 2 points\n",
        "\n",
        "Pour un total de 22 points possibles sur 20 points.\n"
      ]
    },
    {
      "cell_type": "markdown",
      "metadata": {
        "colab_type": "text",
        "id": "P1et8f3nXGzk"
      },
      "source": [
        "## Apprentissage machine\n",
        "L'apprentissage machine est un domaine de plus en plus exploré et exploité. Pouvoir faire des prédictions en se basant sur des données ouvre la porte à plein de possibilités pour faciliter la vie des gens. Par exemple, un modèle pourrait prédire si un patient souffre ou non d'une maladie en se basant sur des mesures de santé.\n",
        "\n",
        "### But\n",
        "Le but de ce TP est de vous donner un aperçu du déroulement général d'un projet de machine learning tout en vous familiarisant avec des librairies python adaptées.\n",
        "\n",
        "Dans la première partie, vous implémenterez un algorithme de classification multiclasse appelé **softmax regression** à l'aide uniquement de la bibliothèque **numpy** et l'intégrerez à la bibliothèque **scikit-learn**.\n",
        "\n",
        "Dans la deuxième partie, vous prendrez connaissance du **dataset** utilisé pour ce projet. Et vous serez amenés à effectuer le **preprocessing** de ces données pour qu'elles soient utilisables dans les algorithmes de machine learning classiques. Vous utiliserez les bibliothèques **pandas** et **scikit-learn**.\n",
        "\n",
        "Enfin, dans la troisième partie, vous comparerez l'efficacité du modèle que vous avez implémenté avec d'autres modèles déjà implémentés dans **sklearn**. Puis vous tenterez d'améliorer les performances de l'algorithme sélectionné.\n",
        "\n",
        "La dernière partie du TP est de soumettre vos prédictions sur **Kaggle**. Vous devez créer un compte et formez une équipe sur Kaggle: https://www.kaggle.com/. La compétition pour le TP se trouve à l'adresse suivante: https://www.kaggle.com/t/7e5ae1ae92d14e06b2560c9ac5602bf6.\n",
        "\n",
        "### Installation\n",
        "\n",
        "Pour installer **pandas** et **scikit-learn** le plus simple est de télécharger et d'installer **Anaconda**. Cet environnement python regroupe les packages les plus utilisés pour le calcul scientifique et la science des données. Vous pouvez aussi installer directement les packages avec pip.\n",
        "\n",
        "Assurez-vous d'avoir au moins la version **20.0** de **scikit-learn**.\n",
        "\n",
        "Vous trouverez la distribution d'anaconda ici : https://www.anaconda.com/download/ .\n"
      ]
    },
    {
      "cell_type": "markdown",
      "metadata": {
        "colab_type": "text",
        "id": "LYyOL7QAXGzm"
      },
      "source": [
        "## Bonus 1: Compétition (2 points)\n",
        "\n",
        "Lorsque vous soumettez vos résultats sur Kaggle, vous obtiendrez votre performance en terme de **Mean F-Score**. Votre score sera affiché sur le leaderboard publique de Kaggle.  Le top 10 sur le leaderboard privée recevront un bonus de 2pts. Vous pouvez soumettre plusieurs fois et choisir 2 soumissions pour être pris en compte pour le classement final. Attention de ne pas overfit sur les données de tests du classement publique."
      ]
    },
    {
      "cell_type": "markdown",
      "metadata": {
        "colab_type": "text",
        "id": "517JwzlPXGzp"
      },
      "source": [
        "# 1. Softmax Regression (12 points)\n",
        "\n",
        "Dans cette partie vous implémenterez **softmax regression** la généralisation de **logistic regression** qui permet d'effectuer de la classification pour un nombre de classe supérieur à 2.\n",
        "\n",
        "**Pour cet exercice, la contrainte est d'utiliser uniquement la bibliothèque numpy**\n",
        "\n",
        "## Encapsulation avec sklearn\n",
        "\n",
        "La classe **SoftmaxClassifier** hérite des classes **BaseEstimator** et **ClassifierMixin** de **scikit-learn** ce qui nous permettra d'utiliser facilement avec notre classifier les outils fournis par scikit-learn dans la suite du TP.\n",
        "\n",
        "Pour la compatibilité, le classifier doit implémenter obligatoirement les méthodes:\n",
        "\n",
        "* **fit**: responsable de l'entraînement du modèle\n",
        "* **predict_proba**: permet de prédire la probabilité de chaque classe pour chaque exemple du dataset fourni.\n",
        "* **predict**: permet de prédire la classe pour chaque exemple du dataset fourni.\n",
        "* **score**: permet de quantifier l'écart entre les classes prédites et les classes réelles pour le dataset fourni\n",
        "* **fit_predict**: permet de faire un fit et retourne les prédictions faites avec cet ensemble.\n",
        "\n",
        "\n",
        "## Train/Test set:\n",
        "\n",
        "Quand on veut tester les performances de l'apprentissage d'un algorithme de machine learning, on **ne le teste pas sur les données utilisées pour l'apprentissage**.\n",
        "\n",
        "En effet, ce qui nous intéresse c'est que notre algorithme soit **capable de généraliser** ses prédictions à des données qu'il n'a **jamais vu**.\n",
        "\n",
        "Pour illustrer, si on teste un algorithme sur les données d'entrainement, on teste sa capacité à **apprendre par coeur** le dataset et non à **généraliser**.\n",
        "\n",
        "Par conséquent, quand on reçoit un nouveau dataset, la première chose à faire et de le **diviser en deux parties**: un ensemble d'**entraînement** (**70-80%** du dataset) et un ensemble de **test**(**20-30%** du dataset).\n",
        "\n",
        "Tous les algorithmes de **traitement des données** et d'apprentissage devront être appris uniquement sur l'ensemble d'entraînement et appliqués ensuite sur l'ensemble de test.\n",
        "\n",
        "Cela garantit l'absence de connaissances préalables de l'ensemble de test lors de l'entrainement.\n",
        "\n",
        "## Gradient descent\n",
        "\n",
        "La descente de gradient est un algorithme qui permet trouver la solution optimale d'un certains nombre de problèmes. Le principe est le suivant: on définit une **fonction de coût J**  qui caractérise le problème.\n",
        "Cette fonction dépend d'un ensemble de paramètres $\\theta$. La descente de gradient cherche à **minimiser** la fonction de coût en **modifiant itérativement** les paramètres.\n",
        "\n",
        "### Gradient\n",
        "\n",
        "Le gradient de la fonction de coût pour un $\\theta$ donné, correspond à la direction dans laquelle il faut modifier $\\theta$ pour augmenter la valeur de la fonction de coût. Cela correspond donc à la dérivée de la fonction de coût.\n",
        "La fonction de coût est minimale quand le gradient est nul.\n",
        "\n",
        "Concrètement, on initialize $\\theta$ aléatoirement, et on effectue à chaque itération un pas pour réduire la fonction de coût jusqu'à convergence de l'algorithme à un minimum.\n",
        "\n",
        "### Learning rate\n",
        "\n",
        "Le taux d'apprentissage correspond à la taille du pas que l'on va effectuer dans la direction du gradient.\n",
        "Plus il est grand, plus la convergence est rapide mais il y a un risque que l'algorithme diverge.\n",
        "\n",
        "Plus il est petit, plus la convergence est lente.\n",
        "\n",
        "### Batch gradient descent\n",
        "\n",
        "Il existe plusieurs algorithmes de descente de gradient. Nous utiliserons Batch gradient descent.\n",
        "\n",
        "Dans cet algorithme, avant de mettre à jour $\\theta$, on calcule les gradients sur l'ensemble des exemples d'entraînement.\n",
        "\n",
        "### Epoch\n",
        "\n",
        "Il s'agit d'un pas de la descente de gradient, soit une mise à jour de gradient.\n",
        "\n",
        "### Bias/Variance tradeoff\n",
        "\n",
        "Lorsqu'on entraine un algorithme de machine learning on cherche un équilibre entre **biais** et **variance**.\n",
        "\n",
        "Un modèle avec un **biais fort**, est un modèle qui est **trop simple** pour la structure donnée considérée (modèle linéaire pour données quadratiques), cela limite la capacité du modèle à généraliser. On appelle aussi le biais **underfitting**.\n",
        "\n",
        "Un modèle avec une **variance élevée** signifie qu'il est sensible aux petites variations dans les données d'entrainement, cela correspond à l'**overfitting**, c'est-à-dire que le modèle est trop proche de la structure de l'ensemble d'entrainement ce qui **limite sa capacité à généraliser**.\n",
        "\n",
        "Un modèle avec un **biais important** aura une **mauvaise performance** sur l'ensemble d'**entraînement**.\n",
        "Un modèle avec une **variance importante** aura une performance bien **moins bonne** sur l'ensemble de **test** que sur l'ensemble d'**entrainement**.\n",
        "\n",
        "Le classifier **SoftmaxRegression** contient les champs suivants:\n",
        "\n",
        "- `lr` : le rythme d'apprentissage pour la mise à jour des points lors de la descente du gradient;\n",
        "- `n_epochs`: le nombre d'itérations;\n",
        "- `eps`: le seuil pour garder les probabilités dans l'intervalle [self.eps;1.-self.eps];\n",
        "- `threshold`: seuil d'arrèt pour le early stopping;\n",
        "- `early_stopping`: active le early stopping\n",
        "- `nb_features`: le nombre d'attributs pour chaque instance\n",
        "- `nb_classes`: le nombre de classes possible pour le dataset\n",
        "- `theta_`:  la matrice de poids"
      ]
    },
    {
      "cell_type": "code",
      "metadata": {
        "colab_type": "code",
        "id": "UhACgVBXAcUW",
        "pycharm": {
          "is_executing": false
        },
        "colab": {}
      },
      "source": [
        "import numpy as np\n",
        "from sklearn.base import BaseEstimator, ClassifierMixin\n",
        "\n",
        "\n",
        "class SoftmaxClassifier(BaseEstimator, ClassifierMixin):\n",
        "    nb_classes: int\n",
        "    nb_features: int\n",
        "    nb_examples: int\n",
        "\n",
        "    def __init__(self, lr=0.1, alpha=100, n_epochs=1000, eps=1.0e-5, threshold=1.0e-10, early_stopping=True):\n",
        "\n",
        "        self.lr = lr\n",
        "        self.alpha = alpha\n",
        "        self.n_epochs = n_epochs\n",
        "        self.eps = eps\n",
        "        self.threshold = threshold\n",
        "        self.early_stopping = early_stopping\n",
        "\n",
        "    def fit(self, X: np.ndarray, y=None) -> 'SoftmaxClassifier':\n",
        "        \"\"\"\n",
        "            In:\n",
        "            X : l'ensemble d'exemple de taille nb_example x nb_features\n",
        "            y : l'ensemble d'étiquette de taille nb_example x 1\n",
        "\n",
        "            Principe:\n",
        "            Initialiser la matrice de poids\n",
        "            Ajouter une colonne de bias à X\n",
        "            Pour chaque epoch\n",
        "                calculer les probabilités\n",
        "                calculer le log loss\n",
        "                calculer le gradient\n",
        "                mettre à jouer les poids\n",
        "                sauvegarder le loss\n",
        "                tester pour early stopping\n",
        "\n",
        "            Out:\n",
        "            self, in sklearn the fit method returns the object itself\n",
        "        \"\"\"\n",
        "\n",
        "        m = self.nb_examples = X.shape[0]\n",
        "        n = self.nb_features = X.shape[1]\n",
        "        k = self.nb_classes = len(set(y))\n",
        "\n",
        "        X_bias = np.concatenate((np.ones((X.shape[0], 1), dtype=float), X), axis=1)\n",
        "\n",
        "        self.theta_weight_matrix = np.random.rand(n + 1, k) * 2 - 1\n",
        "\n",
        "        prev_loss = np.inf\n",
        "        self.losses_ = []\n",
        "\n",
        "        self.nb_features = n\n",
        "\n",
        "        for epoch in range(self.n_epochs):\n",
        "\n",
        "            # logits =\n",
        "            probabilities = self.predict_proba(X, y)\n",
        "\n",
        "            loss = self._cost_function(probabilities, y)\n",
        "            self.theta_weight_matrix -= self.lr * self._get_gradient(X_bias, y, probabilities)\n",
        "\n",
        "            if self.early_stopping:\n",
        "                if np.abs(prev_loss - loss) < self.threshold:\n",
        "                    break\n",
        "            prev_loss = loss\n",
        "\n",
        "        return self\n",
        "\n",
        "    def predict_proba(self, X, y=None):\n",
        "        try:\n",
        "            getattr(self, \"theta_weight_matrix\")\n",
        "        except AttributeError:\n",
        "            raise RuntimeError(\"You must train classifer before predicting data!\")\n",
        "\n",
        "        m = X.shape[0]\n",
        "        n = X.shape[1]\n",
        "\n",
        "        X_bias = np.concatenate((np.ones((X.shape[0], 1), dtype=float), X), axis=1)\n",
        "        Z = X_bias @ self.theta_weight_matrix\n",
        "        return np.array([self._softmax(z) for z in Z])\n",
        "\n",
        "    def predict(self, X, y=None):\n",
        "        try:\n",
        "            getattr(self, \"theta_weight_matrix\")\n",
        "        except AttributeError:\n",
        "            raise RuntimeError(\"You must train classifer before predicting data!\")\n",
        "        P = self.predict_proba(X, y)\n",
        "        return [np.argmax(p) for p in P]\n",
        "\n",
        "    def fit_predict(self, X, y=None):\n",
        "        self.fit(X, y)\n",
        "        return self.predict(X, y)\n",
        "\n",
        "    def score(self, X, y=None, sample_weight=None) -> float:\n",
        "        prob = self.predict_proba(X, y)\n",
        "        return self._cost_function(prob, y)\n",
        "\n",
        "    def _cost_function(self, probabilities, y):\n",
        "        encoded_y = self._one_hot(y)\n",
        "        P_mat = np.clip(probabilities, float(self.eps), float(1.0 - self.eps))\n",
        "\n",
        "        return (-1.0) / len(y) * np.sum(encoded_y * np.log(P_mat))\n",
        "\n",
        "    def _one_hot(self, y) -> np.array:\n",
        "        size = (len(y), self.nb_classes)\n",
        "        ret = np.zeros(size, dtype=float)\n",
        "        for i in range(len(y)):\n",
        "            ret[i][y[i]] = 1.0\n",
        "        return ret\n",
        "\n",
        "    def _softmax(self, z):\n",
        "        z_exp = np.exp(z)\n",
        "        z_exp_sum = np.sum(z_exp)\n",
        "        return [z_exp[i] / z_exp_sum for i in range(len(z_exp))]\n",
        "\n",
        "    def _get_gradient(self, X_bias, y, probas):\n",
        "        m = len(y)\n",
        "        y_ohe = self._one_hot(y)\n",
        "        return (1 / m) * X_bias.T @ (probas - y_ohe)"
      ],
      "execution_count": 0,
      "outputs": []
    },
    {
      "cell_type": "markdown",
      "metadata": {
        "colab_type": "text",
        "id": "Yv83c1sWXGzq"
      },
      "source": [
        "### 1.1 One-hot-encoding (1 point)\n",
        "\n",
        "En machine learning pour représenter un vecteur de données catégoriques, on utilise le one-hot encoding.\n",
        "\n",
        "Pour un vecteur comportant 5 exemples et 3 catégories différentes, on le représente sous forme d'une matrice de taille 5 par 3. Cette matrice est entièrement remplie de 0 sauf à l'indice correspondant au numéro de la classe pour chaque exemple.\n",
        "\n",
        "\n",
        "Par exemple\n",
        "$ y = \\left(\\begin{array}{cc} \n",
        "0 \\\\\n",
        "0 \\\\\n",
        "1 \\\\\n",
        "2 \\\\\n",
        "1 \\\\\n",
        "\\end{array}\\right) $\n",
        "\n",
        "devient:\n",
        "\n",
        "$ yohe =  \\left(\\begin{array}{cc} \n",
        "1. & 0. & 0.\\\\\n",
        "1. & 0. & 0.\\\\\n",
        "0. & 1. & 0.\\\\\n",
        "0. & 0. & 1.\\\\\n",
        "0. & 1. & 0.\\\\\n",
        "\\end{array}\\right) $\n",
        "\n",
        "\n",
        "#### Implémentation\n",
        "1. Implémentez  la fonction  *`_one_hot()`*  dans SoftmaxClassifier. \n",
        "\n",
        "Utilisez la fonction _testOneHot_ pour vérifier votre implémentation de la fonction. Vous devriez avoir ces résultats:\n",
        "```\n",
        "Premier test\n",
        "[[1. 0. 0. 0. 0. 0.]\n",
        " [0. 1. 0. 0. 0. 0.]\n",
        " [0. 0. 1. 0. 0. 0.]\n",
        " [0. 0. 0. 1. 0. 0.]\n",
        " [0. 0. 0. 0. 1. 0.]\n",
        " [0. 0. 0. 0. 0. 1.]]\n",
        "\n",
        "Deuxième test\n",
        "[[0. 0. 0. 0. 0. 1.]\n",
        " [0. 0. 0. 0. 0. 1.]\n",
        " [0. 0. 0. 0. 0. 1.]\n",
        " [0. 0. 0. 0. 0. 1.]]\n",
        "\n",
        " Troisième test\n",
        "[[1. 0. 0. 0. 0. 0.]\n",
        " [1. 0. 0. 0. 0. 0.]\n",
        " [1. 0. 0. 0. 0. 0.]\n",
        " [1. 0. 0. 0. 0. 0.]]\n",
        " ```"
      ]
    },
    {
      "cell_type": "code",
      "metadata": {
        "colab_type": "code",
        "id": "HEwBsNVsjvfs",
        "outputId": "889105dd-1082-4615-cb7f-27d903a5e4cd",
        "pycharm": {
          "is_executing": false
        },
        "colab": {
          "base_uri": "https://localhost:8080/",
          "height": 347
        }
      },
      "source": [
        "def testOneHot():\n",
        "    softmax = SoftmaxClassifier()\n",
        "    softmax.nb_classes = 6 # les classes possibles sont donc 0-5\n",
        "\n",
        "    y1= np.array([0,1,2,3,4,5])\n",
        "    y1.shape = (6,1)\n",
        "    print('Premier test')\n",
        "    print(softmax._one_hot(y1))\n",
        "\n",
        "    y2 = np.array([5,5,5,5])\n",
        "    y2.shape = (4,1)\n",
        "    print('\\nDeuxième test')\n",
        "    print(softmax._one_hot(y2))\n",
        "\n",
        "    y3 = np.array([0,0,0,0])\n",
        "    y3.shape = (4,1)\n",
        "    print('\\nTroisième test')\n",
        "    print(softmax._one_hot(y3))\n",
        "\n",
        "\n",
        "testOneHot()"
      ],
      "execution_count": 2,
      "outputs": [
        {
          "output_type": "stream",
          "text": [
            "Premier test\n",
            "[[1. 0. 0. 0. 0. 0.]\n",
            " [0. 1. 0. 0. 0. 0.]\n",
            " [0. 0. 1. 0. 0. 0.]\n",
            " [0. 0. 0. 1. 0. 0.]\n",
            " [0. 0. 0. 0. 1. 0.]\n",
            " [0. 0. 0. 0. 0. 1.]]\n",
            "\n",
            "Deuxième test\n",
            "[[0. 0. 0. 0. 0. 1.]\n",
            " [0. 0. 0. 0. 0. 1.]\n",
            " [0. 0. 0. 0. 0. 1.]\n",
            " [0. 0. 0. 0. 0. 1.]]\n",
            "\n",
            "Troisième test\n",
            "[[1. 0. 0. 0. 0. 0.]\n",
            " [1. 0. 0. 0. 0. 0.]\n",
            " [1. 0. 0. 0. 0. 0.]\n",
            " [1. 0. 0. 0. 0. 0.]]\n"
          ],
          "name": "stdout"
        }
      ]
    },
    {
      "cell_type": "markdown",
      "metadata": {
        "colab_type": "text",
        "id": "vwxvqYj4XGzu"
      },
      "source": [
        "### 1.2 Matrice de poids (1 point)\n",
        "\n",
        "Soit $ X_{m * n} $ la matrice d'exemple et $ \\Theta _{n*K} $ la matrice de poids avec:\n",
        "\n",
        "* **m** le nombre d'exemples\n",
        "* **n** le nombre de features\n",
        "* **k** le nombre de classes\n",
        "\n",
        "Il est d'usage d'ajouter une colonne supplémentaire à X. Cette colonne est remplie de 1 et se trouve au début de la matrice. Elle représente un biais. Pour prendre en compte ce changement, il faut aussi rajouter une ligne à la matrice $\\Theta$.\n",
        "\n",
        "On obtient X_bias$_{m*(n+1)}$ et $ \\Theta _{(n+1)*K} $\n",
        "\n",
        "\n",
        "Intuitivement, à chaque classe K est associée une colonne de $\\theta$.\n",
        "\n",
        "On note $\\theta_k$ le vecteur de dimension n+1 la colonne de poids associée à la prédiction de la classe k.\n",
        "\n",
        "$\\Theta$ = [$\\theta_0$,$\\theta_1$... $\\theta_k$]\n",
        "\n",
        "Ainsi $ z = x * \\Theta $ donne un vecteur de dimension K qui correspond aux **logits** associés à x pour chacune des classes.\n",
        "\n",
        "#### Implémentation\n",
        "1. Instanciez X_bias dans les fonctions  *`fit()`* et `predict_proba()`.\n",
        "2. initialisez $\\Theta$ aléatoirement dans la fonction  *`fit()`*.\n",
        "3. Instanciez aussi le nombre de features et de classe de SoftmaxClassifier dans la fonction  *`fit()`*.\n",
        "\n",
        "**Notez que votre fonction fit n'est pas encore complète.**"
      ]
    },
    {
      "cell_type": "markdown",
      "metadata": {
        "colab_type": "text",
        "id": "6UTIxaGIXGzz"
      },
      "source": [
        "### 1.3 Softmax (1 point)\n",
        "\n",
        "On veut convertir le vecteur de logits **z** obtenu dans la partie précédente, en un **vecteur de probabilité**.\n",
        "\n",
        "Pour cela on définit la **fonction softmax**:\n",
        "\n",
        "$$ \\hat{p_x}^k = softmax(z)_k = \\frac{exp(z_k)}{\\sum_{\\substack{1<j<K}} exp(z_j)} $$\n",
        "\n",
        "Intuitivement, pour un logit de z, $z_k$, on prend l'exponentielle de cette valeur et on la divise par la somme des exponentielles de chaque logit du vecteur **z**. On obtient  $\\hat{p_x}^k$ la probabilité que l'exemple **x** appartienne à la classe **k**.\n",
        "\n",
        "On réitère l'opération pour chaque logit du vecteur **z**. \n",
        "\n",
        "On obtient ainsi un vecteur de probabilités $\\hat{p_x}$ pour un exemple **x**. \n",
        "\n",
        "La division permet de rendre la somme des termes du vecteur $\\hat{p_x}$ égale à 1 ce qui est indispensable dans le cadre des probabilités.\n",
        "\n",
        "#### Implémentation\n",
        "1. Implémentez  la fonction  *`_softmax()`*  dans SoftmaxClassifier. "
      ]
    },
    {
      "cell_type": "markdown",
      "metadata": {
        "colab_type": "text",
        "id": "g5_N31uPXGz2"
      },
      "source": [
        "### 1.4 Prédictions (1 point)\n",
        "\n",
        "Maintenant que vous avez implémentée la fonction **_softmax**, vous pouvez implémenter  les fonctions  **predict_proba** et **predict**  dans SoftmaxClassifier. \n",
        "\n",
        "#### Implémentation\n",
        "1. Implémenter la fonction *`predict_proba()`* de la classe SoftmaxClassifier. Cette fonction retourne les probabilités associées à chaque classe pour chacune des instances à prédire.\n",
        "\n",
        "2. Implémenter la fonction *`predict()`* de la classe SoftmaxClassifier. Cette fonction retourne la classe avec la plus grande probabilité pour chacunes des intances à prédire."
      ]
    },
    {
      "cell_type": "markdown",
      "metadata": {
        "colab_type": "text",
        "id": "cj5Ghd5jXGz6"
      },
      "source": [
        "### 1.5 Fonction de coût Log loss (2 points)\n",
        "\n",
        "Soit la fonction de coût log loss (ou cross entropy):\n",
        "\n",
        "$$ J( \\Theta) = \\frac{-1}{m}\\sum_{\\substack{1<i<m}} \\sum_{\\substack{1<k<K}} y_k^i log( \\hat{p_k}^i ) $$\n",
        "\n",
        "avec:\n",
        "* **K** le nombre de classes\n",
        "* **m** le nombre d'exemples dans les données\n",
        "* $ \\hat{p_k}^i  $  la probabilité que l'exemple i soit de la classe k\n",
        "* $y_k^i$ vaut 1 si la classe cible de l'exemple i est k, 0 sinon\n",
        "\n",
        "Le coût correspond donc à la moyenne multiplié par -1 des sommes des multiplications des probabilités pour chaque classe pour chaque élement. Autrement dit, plus le coût est petit, plus les prédictions correspondent bien aux étiquettes.\n",
        "\n",
        "\n",
        "**Détail d'implémentation:** La fonction n'est pas définie pour des valeurs de probabilité de 0 ou 1. Il faut donc s'assurer que étant donné $\\epsilon$, les probabilités sont comprises dans [$\\epsilon$, 1. - $\\epsilon$].\n",
        "#### Implémentation\n",
        "1. Implémentez  la fonction  *`_cost_function()`*  dans SoftmaxClassifier en prenant en utilisant la variable self.eps. Utilisez le format one-hot pour représenter $y_k^i$.\n",
        "2.  Utilisez *`_cost_function()`* pour calculer la variable *`loss`* dans la fonction `fit()`"
      ]
    },
    {
      "cell_type": "markdown",
      "metadata": {
        "colab_type": "text",
        "id": "vODCJbRaXGz-"
      },
      "source": [
        "### 1.6 Gradient de la fonction de coût (1 point)\n",
        "\n",
        "Le **gradient de J** par rapport à la classe k (par rapport à $\\theta_k$) est :\n",
        "\n",
        "\n",
        "$$ \\Delta_{\\theta_k}J( \\Theta) = \\frac{1}{m} \\sum_{\\substack{1<i<m}}( \\hat{p_k}^i - y_k^i)x^i  $$\n",
        "\n",
        "avec:\n",
        "* **K** le nombre de classes\n",
        "* **m** le nombre d'exemples dans les données\n",
        "* $ \\hat{p_k}^i  $  la probabilité que l'exemple i soit de la classe k\n",
        "* $y_k^i$ vaut 1 si la classe cible de l'exemple i est k, 0 sinon\n",
        "\n",
        "Sous **forme matricielle**, on peut écrire le **gradient de J par rapport à $\\Theta$**:\n",
        "$$ \\Delta_J( \\Theta) = \\frac{1}{m} X_{bias}^T *( \\hat{p} - y_{ohe}) $$\n",
        "\n",
        "avec:\n",
        "* $\\hat{p}$ la matrice de probabilité prédite pour chaque example et pour chaque classe\n",
        "* $y_{ohe}$ la version one-hot de y\n",
        "* $X_{bias}^T$  la matrice transposée de $X_{bias}$\n",
        "* **\\*** le produit matriciel\n",
        "\n",
        "#### Implémentation\n",
        "1. Implémentez  la fonction  *`_get_gradient()`*  dans SoftmaxClassifier en vous basant sur la forme matricielle du gradient."
      ]
    },
    {
      "cell_type": "markdown",
      "metadata": {
        "colab_type": "text",
        "id": "Y5EOpj9TXG0B"
      },
      "source": [
        "### 1.7 Mise à jour des poids (1 point)\n",
        "\n",
        "Quand le gradient a été calculé, il faut mettre à jour les poids avec ces gradients.\n",
        "\n",
        "$$ \\Theta  = \\Theta - \\gamma \\Delta J( \\Theta) $$\n",
        "\n",
        "\n",
        "avec:\n",
        "* $\\Theta$ la matrice de poids\n",
        "* $\\gamma$  le taux d'apprentissage\n",
        "* $\\Delta J( \\Theta)$ le gradient de $J( \\Theta)$ selon $\\Theta$\n",
        "\n",
        "#### Implémentation\n",
        "1. Mettez à jour la variable **self.theta_** dans la fonction `fit()`  dans SoftmaxClassifier."
      ]
    },
    {
      "cell_type": "markdown",
      "metadata": {
        "colab_type": "text",
        "id": "9QrP9uYPXG0I"
      },
      "source": [
        "### 1.8 Évaluation (1 point)\n",
        "\n",
        "Quand on veut évaluer la performance du modèle **après entrainement**, on utilise la fonction de coût. Autrement dit, on compare les prédictions avec les vrais valeurs et calcule un score.\n",
        "\n",
        "#### Implémentation\n",
        "1. Implémentez la fonction `score()` qui permet d'évaluer la qualité de la prédiction **après entrainement** dans SoftmaxClassifier. Elle utilise le log loss comme métrique."
      ]
    },
    {
      "cell_type": "markdown",
      "metadata": {
        "colab_type": "text",
        "id": "Ewh3I_jEXG0N"
      },
      "source": [
        "### 1.9 Early stopping (1 point)\n",
        "\n",
        "Un trop grand nombre d'**epoch** peut résulter en **overfitting**.\n",
        "Pour pallier à ce problème, on peut utiliser le mécanisme d'**early stopping**.\n",
        "Il s'agit d'arrêter l'entraînement si la différence de la fonction de coût entre deux **epochs consécutives** est inférieure à un **seuil**.\n",
        "\n",
        "\n",
        "\n",
        "\n",
        "#### Implémentation\n",
        "\n",
        "1. Ajouter le mécanisme d'**early stopping**  quand le booléen **self.early_stopping** est vrai dans la fonction `fit()`. Le seuil est donné par la variable **self.threshold**."
      ]
    },
    {
      "cell_type": "markdown",
      "metadata": {
        "colab_type": "text",
        "id": "JdNEVRveXG0Q"
      },
      "source": [
        "### 1.10 Test de la solution (2 points)\n",
        "\n",
        "Le code ci-dessous importe le dataset de classification multiclasse **iris** disponible sur sklearn. Les données sont divisées en deux parties, l'ensemble d'entraînement et l'ensemble de test, puis elles sont normalisées.\n",
        "\n",
        "Le classifier est entrainé sur l'ensemble d'entrainement et testé sur l'ensemble de test.\n",
        "\n",
        "Le but de cette partie est juste de vérifier votre implémentation **quand vous êtes sûrs que votre code fonctionne**."
      ]
    },
    {
      "cell_type": "code",
      "metadata": {
        "colab_type": "code",
        "id": "1-2UipMRXG0R",
        "pycharm": {
          "is_executing": false
        },
        "colab": {}
      },
      "source": [
        "import numpy as np\n",
        "from sklearn.datasets import load_iris\n",
        "from sklearn.model_selection import train_test_split\n",
        "from sklearn.preprocessing import StandardScaler\n",
        "\n",
        "# load dataset\n",
        "data,target =load_iris().data,load_iris().target\n",
        "\n",
        "# split data in train/test sets\n",
        "X_train, X_test, y_train, y_test = train_test_split( data, target, test_size=0.33, random_state=42)\n",
        "\n",
        "# standardize columns using normal distribution\n",
        "# fit on X_train and not on X_test to avoid Data Leakage\n",
        "s = StandardScaler()\n",
        "X_train = s.fit_transform(X_train)\n",
        "X_test = s.transform(X_test)"
      ],
      "execution_count": 0,
      "outputs": []
    },
    {
      "cell_type": "code",
      "metadata": {
        "colab_type": "code",
        "id": "8qnflIdzXG0T",
        "pycharm": {
          "is_executing": false
        },
        "colab": {}
      },
      "source": [
        "cl = SoftmaxClassifier()\n",
        "\n",
        "# train on X_train and not on X_test to avoid overfitting\n",
        "train_p = cl.fit_predict(X_train,y_train)\n",
        "test_p = cl.predict(X_test)"
      ],
      "execution_count": 0,
      "outputs": []
    },
    {
      "cell_type": "markdown",
      "metadata": {
        "colab_type": "text",
        "id": "hFt-r3nQXG0V"
      },
      "source": [
        "Si vous obtenez des valeurs relativement proches pour l'ensemble de test et d'entrainement, et qu'elles sont au moins supérieures à 0.8, votre modèle devrait être correct"
      ]
    },
    {
      "cell_type": "code",
      "metadata": {
        "colab_type": "code",
        "id": "GmqcqadpXG0W",
        "pycharm": {
          "is_executing": false
        },
        "colab": {
          "base_uri": "https://localhost:8080/",
          "height": 52
        },
        "outputId": "56615565-7e21-47bf-d533-cbbfa285e29f"
      },
      "source": [
        "from sklearn.metrics import precision_recall_fscore_support\n",
        "\n",
        "# display precision, recall and f1-score on train/test set\n",
        "print(\"train : \"+ str(precision_recall_fscore_support(y_train, train_p,average = \"macro\")))\n",
        "print(\"test : \"+ str(precision_recall_fscore_support(y_test, test_p,average = \"macro\")))"
      ],
      "execution_count": 5,
      "outputs": [
        {
          "output_type": "stream",
          "text": [
            "train : (0.9729729729729729, 0.9714285714285714, 0.9709901198234182, None)\n",
            "test : (0.9791666666666666, 0.9791666666666666, 0.978494623655914, None)\n"
          ],
          "name": "stdout"
        }
      ]
    },
    {
      "cell_type": "markdown",
      "metadata": {
        "colab_type": "text",
        "id": "r3FmllqgXG0d"
      },
      "source": [
        "# 2. Data preprocessing (6 points)\n",
        "\n",
        "##  Kaggle \n",
        "Kaggle est un site dédié au machine learning. On y retrouve un grand nombre de dataset.\n",
        "Des compétitions sont organisées par des organisations. Ces dernières fournissent un dataset et un objectif. Les \"kagglers\" qui participent à ces compétitions soumettent leurs résultats en ligne. Il y a souvent des prix ou des emplois pour ceux qui obtiennent les meilleurs résultats.\n",
        "\n",
        "Il s'agit d'un bon moyen pour développer ses compétences en machine learning sur des vrais datasets.\n",
        "\n",
        "Vous devez créer un compte et formez une équipe sur Kaggle: https://www.kaggle.com/. La compétition pour le TP se trouve à l'adresse suivante: https://www.kaggle.com/c/tp3-inf8215-a19.\n",
        "\n",
        "\n",
        "## Income dataset\n",
        "Le dataset que nous utiliserons est le \"Income dataset\" disponible sur le site de la compétition. C'est une version modifiée du dataset \"Adult\" de UCI qui se trouve à cette adresse: https://archive.ics.uci.edu/ml/datasets/Adult.\n",
        "\n",
        "Il s'agit d'un problème de **classification binaire** du salaire de la personne. Le but est de prédire dans quel catégorie ils appartiennent:\n",
        "* $\\lt=50K$\n",
        "* $\\gt50K$\n",
        "\n",
        "Pour plus d'informations sur les données, lisez la description sur kaggle.\n",
        "\n",
        "## Déroulement d'un projet de machine learning\n",
        "\n",
        "Le but de la suite de ce TP est de vous faire étudier une version simplifiée d'un projet complet de machine learning:\n",
        "\n",
        "1. Nettoyage des données, traitement des valeurs manquantes\n",
        "2. Mise en forme des données pour pouvoir les utiliser dans les algorithmes de machine learning\n",
        "3. Feature engineering: transformation ou combinaison de features entre elles\n",
        "4. Comparaison des performances des différents choix effectués lors du traîtement des données\n",
        "5. Comparaison des performances de différents modèles (dont celui implémenté en première partie)\n",
        "6. Optimisation des hyper-paramètres\n",
        "\n",
        "## Scikit-learn\n",
        "http://scikit-learn.org/stable/\n",
        "\n",
        "Il s'agit d'une bibliothèque de machine learning et data mining, elle propose des outils pour l'analyse et le traîtement des données,  des algorithmes classiques de machine learning comme les réseaux de neuronnes, la régression logistique, les SVM ou autre, enfin des outils permettant de comparer les modèles entre eux comme la cross validation.\n",
        "\n",
        "## Pandas\n",
        "\n",
        "Une bibliothèque permettant de stocker des données et de les manipuler facilement\n",
        "\n",
        "Les deux éléments de base de pandas sont le dataframe et la serie.\n",
        "\n",
        "https://pandas.pydata.org/pandas-docs/version/0.23/generated/pandas.DataFrame.html\n",
        "\n",
        "## Data processing tutorial\n",
        "\n",
        "**Avant de continuer le TP**, familiarisez-vous avec le **pré-traitement des données**, **pandas** et **scikit-learn**, un tutoriel est disponible dans le fichier: **data_processing_tutorial.ipynb**"
      ]
    },
    {
      "cell_type": "markdown",
      "metadata": {
        "colab_type": "text",
        "id": "uJxSGCnOXG0e"
      },
      "source": [
        "## Dataset\n",
        "\n",
        "#### Chargement de l'ensemble d'entraînement et de l'ensemble de test"
      ]
    },
    {
      "cell_type": "code",
      "metadata": {
        "colab_type": "code",
        "id": "KrmSiTseXG0f",
        "pycharm": {
          "is_executing": false
        },
        "colab": {}
      },
      "source": [
        "import pandas as pd\n",
        "\n",
        "PATH = \"/content/\" # changer le path avec votre path\n",
        "X_train = pd.read_csv(PATH + \"train.csv\")\n",
        "X_test = pd.read_csv(PATH + \"test.csv\")"
      ],
      "execution_count": 0,
      "outputs": []
    },
    {
      "cell_type": "markdown",
      "metadata": {
        "colab_type": "text",
        "id": "996_M0-sXG0w"
      },
      "source": [
        "#### 5 premiers exemples de l'ensemble d'entraînement"
      ]
    },
    {
      "cell_type": "code",
      "metadata": {
        "colab_type": "code",
        "id": "s2U3Xs73-rDr",
        "pycharm": {
          "is_executing": false
        },
        "colab": {
          "base_uri": "https://localhost:8080/",
          "height": 276
        },
        "outputId": "a9cc89ee-5546-49b4-9cee-5a9f85344687"
      },
      "source": [
        "X_train.head()"
      ],
      "execution_count": 7,
      "outputs": [
        {
          "output_type": "execute_result",
          "data": {
            "text/html": [
              "<div>\n",
              "<style scoped>\n",
              "    .dataframe tbody tr th:only-of-type {\n",
              "        vertical-align: middle;\n",
              "    }\n",
              "\n",
              "    .dataframe tbody tr th {\n",
              "        vertical-align: top;\n",
              "    }\n",
              "\n",
              "    .dataframe thead th {\n",
              "        text-align: right;\n",
              "    }\n",
              "</style>\n",
              "<table border=\"1\" class=\"dataframe\">\n",
              "  <thead>\n",
              "    <tr style=\"text-align: right;\">\n",
              "      <th></th>\n",
              "      <th>index</th>\n",
              "      <th>Age</th>\n",
              "      <th>Workclass</th>\n",
              "      <th>Final weight</th>\n",
              "      <th>Education</th>\n",
              "      <th>Marital-status</th>\n",
              "      <th>Occupation</th>\n",
              "      <th>Relationship</th>\n",
              "      <th>Sex</th>\n",
              "      <th>Capital-gain</th>\n",
              "      <th>Capital-loss</th>\n",
              "      <th>Hours per week</th>\n",
              "      <th>Native country</th>\n",
              "      <th>Income</th>\n",
              "    </tr>\n",
              "  </thead>\n",
              "  <tbody>\n",
              "    <tr>\n",
              "      <th>0</th>\n",
              "      <td>36721</td>\n",
              "      <td>36</td>\n",
              "      <td>Private</td>\n",
              "      <td>31023</td>\n",
              "      <td>Masters</td>\n",
              "      <td>Married-civ-spouse</td>\n",
              "      <td>Exec-managerial</td>\n",
              "      <td>Husband</td>\n",
              "      <td>Male</td>\n",
              "      <td>0</td>\n",
              "      <td>0</td>\n",
              "      <td>50</td>\n",
              "      <td>United-States</td>\n",
              "      <td>&gt;50K.</td>\n",
              "    </tr>\n",
              "    <tr>\n",
              "      <th>1</th>\n",
              "      <td>2638</td>\n",
              "      <td>52</td>\n",
              "      <td>?</td>\n",
              "      <td>159755</td>\n",
              "      <td>Assoc-voc</td>\n",
              "      <td>Married-civ-spouse</td>\n",
              "      <td>?</td>\n",
              "      <td>Husband</td>\n",
              "      <td>Male</td>\n",
              "      <td>0</td>\n",
              "      <td>0</td>\n",
              "      <td>50</td>\n",
              "      <td>United-States</td>\n",
              "      <td>&gt;50K</td>\n",
              "    </tr>\n",
              "    <tr>\n",
              "      <th>2</th>\n",
              "      <td>36214</td>\n",
              "      <td>36</td>\n",
              "      <td>Private</td>\n",
              "      <td>359001</td>\n",
              "      <td>Assoc-voc</td>\n",
              "      <td>Divorced</td>\n",
              "      <td>Craft-repair</td>\n",
              "      <td>Not-in-family</td>\n",
              "      <td>Male</td>\n",
              "      <td>0</td>\n",
              "      <td>0</td>\n",
              "      <td>40</td>\n",
              "      <td>United-States</td>\n",
              "      <td>&lt;=50K.</td>\n",
              "    </tr>\n",
              "    <tr>\n",
              "      <th>3</th>\n",
              "      <td>27010</td>\n",
              "      <td>42</td>\n",
              "      <td>Self-emp-inc</td>\n",
              "      <td>188615</td>\n",
              "      <td>Bachelors</td>\n",
              "      <td>Married-civ-spouse</td>\n",
              "      <td>Sales</td>\n",
              "      <td>Husband</td>\n",
              "      <td>Male</td>\n",
              "      <td>0</td>\n",
              "      <td>0</td>\n",
              "      <td>60</td>\n",
              "      <td>United-States</td>\n",
              "      <td>&gt;50K</td>\n",
              "    </tr>\n",
              "    <tr>\n",
              "      <th>4</th>\n",
              "      <td>27506</td>\n",
              "      <td>44</td>\n",
              "      <td>Private</td>\n",
              "      <td>43711</td>\n",
              "      <td>Bachelors</td>\n",
              "      <td>Never-married</td>\n",
              "      <td>Other-service</td>\n",
              "      <td>Not-in-family</td>\n",
              "      <td>Male</td>\n",
              "      <td>0</td>\n",
              "      <td>0</td>\n",
              "      <td>48</td>\n",
              "      <td>United-States</td>\n",
              "      <td>&lt;=50K</td>\n",
              "    </tr>\n",
              "  </tbody>\n",
              "</table>\n",
              "</div>"
            ],
            "text/plain": [
              "   index  Age      Workclass  ...  Hours per week  Native country   Income\n",
              "0  36721   36        Private  ...              50   United-States    >50K.\n",
              "1   2638   52              ?  ...              50   United-States     >50K\n",
              "2  36214   36        Private  ...              40   United-States   <=50K.\n",
              "3  27010   42   Self-emp-inc  ...              60   United-States     >50K\n",
              "4  27506   44        Private  ...              48   United-States    <=50K\n",
              "\n",
              "[5 rows x 14 columns]"
            ]
          },
          "metadata": {
            "tags": []
          },
          "execution_count": 7
        }
      ]
    },
    {
      "cell_type": "markdown",
      "metadata": {
        "colab_type": "text",
        "id": "kSM01gVZXG0z"
      },
      "source": [
        "#### 5 premiers exemples de l'ensemble de test"
      ]
    },
    {
      "cell_type": "code",
      "metadata": {
        "colab_type": "code",
        "id": "UMVNvQ9yXG00",
        "pycharm": {
          "is_executing": false
        },
        "colab": {
          "base_uri": "https://localhost:8080/",
          "height": 206
        },
        "outputId": "e0c8a317-e00d-4d25-e368-df989c0fa675"
      },
      "source": [
        "X_test.head()"
      ],
      "execution_count": 8,
      "outputs": [
        {
          "output_type": "execute_result",
          "data": {
            "text/html": [
              "<div>\n",
              "<style scoped>\n",
              "    .dataframe tbody tr th:only-of-type {\n",
              "        vertical-align: middle;\n",
              "    }\n",
              "\n",
              "    .dataframe tbody tr th {\n",
              "        vertical-align: top;\n",
              "    }\n",
              "\n",
              "    .dataframe thead th {\n",
              "        text-align: right;\n",
              "    }\n",
              "</style>\n",
              "<table border=\"1\" class=\"dataframe\">\n",
              "  <thead>\n",
              "    <tr style=\"text-align: right;\">\n",
              "      <th></th>\n",
              "      <th>index</th>\n",
              "      <th>Age</th>\n",
              "      <th>Workclass</th>\n",
              "      <th>Final weight</th>\n",
              "      <th>Education</th>\n",
              "      <th>Marital-status</th>\n",
              "      <th>Occupation</th>\n",
              "      <th>Relationship</th>\n",
              "      <th>Sex</th>\n",
              "      <th>Capital-gain</th>\n",
              "      <th>Capital-loss</th>\n",
              "      <th>Hours per week</th>\n",
              "      <th>Native country</th>\n",
              "    </tr>\n",
              "  </thead>\n",
              "  <tbody>\n",
              "    <tr>\n",
              "      <th>0</th>\n",
              "      <td>7762</td>\n",
              "      <td>18</td>\n",
              "      <td>Private</td>\n",
              "      <td>423024.0</td>\n",
              "      <td>HS-grad</td>\n",
              "      <td>Never-married</td>\n",
              "      <td>Other-service</td>\n",
              "      <td>Not-in-family</td>\n",
              "      <td>Male</td>\n",
              "      <td>0.0</td>\n",
              "      <td>0.0</td>\n",
              "      <td>20.0</td>\n",
              "      <td>United-States</td>\n",
              "    </tr>\n",
              "    <tr>\n",
              "      <th>1</th>\n",
              "      <td>23881</td>\n",
              "      <td>17</td>\n",
              "      <td>Private</td>\n",
              "      <td>178953.0</td>\n",
              "      <td>12th</td>\n",
              "      <td>Never-married</td>\n",
              "      <td>Sales</td>\n",
              "      <td>Own-child</td>\n",
              "      <td>Female</td>\n",
              "      <td>0.0</td>\n",
              "      <td>0.0</td>\n",
              "      <td>20.0</td>\n",
              "      <td>United-States</td>\n",
              "    </tr>\n",
              "    <tr>\n",
              "      <th>2</th>\n",
              "      <td>30507</td>\n",
              "      <td>25</td>\n",
              "      <td>Local-gov</td>\n",
              "      <td>348986.0</td>\n",
              "      <td>HS-grad</td>\n",
              "      <td>Never-married</td>\n",
              "      <td>Handlers-cleaners</td>\n",
              "      <td>Other-relative</td>\n",
              "      <td>Male</td>\n",
              "      <td>0.0</td>\n",
              "      <td>0.0</td>\n",
              "      <td>40.0</td>\n",
              "      <td>United-States</td>\n",
              "    </tr>\n",
              "    <tr>\n",
              "      <th>3</th>\n",
              "      <td>28911</td>\n",
              "      <td>20</td>\n",
              "      <td>Private</td>\n",
              "      <td>218215.0</td>\n",
              "      <td>Some-college</td>\n",
              "      <td>Never-married</td>\n",
              "      <td>Sales</td>\n",
              "      <td>Own-child</td>\n",
              "      <td>Female</td>\n",
              "      <td>0.0</td>\n",
              "      <td>0.0</td>\n",
              "      <td>30.0</td>\n",
              "      <td>United-States</td>\n",
              "    </tr>\n",
              "    <tr>\n",
              "      <th>4</th>\n",
              "      <td>19484</td>\n",
              "      <td>47</td>\n",
              "      <td>Private</td>\n",
              "      <td>244025.0</td>\n",
              "      <td>HS-grad</td>\n",
              "      <td>Never-married</td>\n",
              "      <td>Machine-op-inspct</td>\n",
              "      <td>Unmarried</td>\n",
              "      <td>Male</td>\n",
              "      <td>0.0</td>\n",
              "      <td>0.0</td>\n",
              "      <td>56.0</td>\n",
              "      <td>Puerto-Rico</td>\n",
              "    </tr>\n",
              "  </tbody>\n",
              "</table>\n",
              "</div>"
            ],
            "text/plain": [
              "   index  Age   Workclass  ...  Capital-loss Hours per week  Native country\n",
              "0   7762   18     Private  ...           0.0           20.0   United-States\n",
              "1  23881   17     Private  ...           0.0           20.0   United-States\n",
              "2  30507   25   Local-gov  ...           0.0           40.0   United-States\n",
              "3  28911   20     Private  ...           0.0           30.0   United-States\n",
              "4  19484   47     Private  ...           0.0           56.0     Puerto-Rico\n",
              "\n",
              "[5 rows x 13 columns]"
            ]
          },
          "metadata": {
            "tags": []
          },
          "execution_count": 8
        }
      ]
    },
    {
      "cell_type": "markdown",
      "metadata": {
        "colab_type": "text",
        "id": "vli9bS98XG04"
      },
      "source": [
        "#### 5 premiers exemples de l'attribut à prédire"
      ]
    },
    {
      "cell_type": "code",
      "metadata": {
        "colab_type": "code",
        "id": "HlgNDI3BXG05",
        "pycharm": {
          "is_executing": false
        },
        "colab": {}
      },
      "source": [
        "# y_train.head()"
      ],
      "execution_count": 0,
      "outputs": []
    },
    {
      "cell_type": "markdown",
      "metadata": {
        "colab_type": "text",
        "id": "qkm_PxPOXG08"
      },
      "source": [
        "## Travail demandé\n",
        "\n",
        "En vous appuyant sur le tutoriel fourni, vous devez écrire un pipeline complet de transformation pour chacune des colonnes du dataset.\n",
        "\n",
        "Vous êtes **libres** de vos choix, mais vous devez les **justifer** colonne par colonne.\n",
        "Par exemple, vous pouvez choisir de combiner des colonnes entre elles, de séparer une colonne en plusieurs ou encore d'éliminer complètement une colonne si vous le justifiez correctement.\n"
      ]
    },
    {
      "cell_type": "markdown",
      "metadata": {
        "colab_type": "text",
        "id": "HOX3V-pbBNYm"
      },
      "source": [
        "####  2.1 Preprocessing (3 points)\n",
        "\n",
        "Vous devez justifier toutes les transformations que vous faites sur les données pour faciliter l'utilisation des données lors de l'entraînement du modèle. Vous pouvez justifier avec de la logique ou des preuves numériques. **Attention de ne pas tomber dans le piège du overfitting**.\n",
        "\n",
        "**ATTENTION** Vous devez avoir un meilleur score que le baseline pour le classement privé pour avoir votre point au complet pour la partie 2.1. Ce score est une bonne mesure pour savoir si votre traitement est correct.\n",
        "\n",
        "1. Justifier tous les choix de traitements que vous faites ici."
      ]
    },
    {
      "cell_type": "markdown",
      "metadata": {
        "colab_type": "text",
        "id": "bjKBBvUMLpFD"
      },
      "source": [
        "\n",
        "Colonne(s) | Traitement | Justification |\n",
        " :---: | :---: | :---: |\n",
        " Native country | Je l'enlève complètement. | Cela ne semble pas être pertinent sur les résultats | \n",
        " index | Je l'enlève complètement. | Aucune influence |\n",
        " Tous les colonnes avec du text | One hot | Cela permet de faire l'analyse|\n",
        " Tous les colonnes avec données numériques | Normalisation entre -1 et 1 | Permet de faire les calculs sans avoir d'influence due à de gros nombres|\n",
        " "
      ]
    },
    {
      "cell_type": "markdown",
      "metadata": {
        "id": "Dj9DQ_Rt7Rs1",
        "colab_type": "text"
      },
      "source": [
        "### 2.2 Transformation (3 points)\n"
      ]
    },
    {
      "cell_type": "markdown",
      "metadata": {
        "id": "Q5EaZJXj7Rs4",
        "colab_type": "text"
      },
      "source": [
        "#### 2.2.1 Valeurs manquantes\n"
      ]
    },
    {
      "cell_type": "code",
      "metadata": {
        "pycharm": {
          "is_executing": false
        },
        "id": "ZEk6J_0A7Rs6",
        "colab_type": "code",
        "colab": {}
      },
      "source": [
        "from sklearn.impute import SimpleImputer\n",
        "from sklearn.preprocessing import LabelEncoder\n",
        "\n",
        "X_train = pd.read_csv(PATH + \"train.csv\")\n",
        "X_test = pd.read_csv(PATH + \"test.csv\")\n",
        "\n",
        "X_train = X_train.drop(columns=['Native country', 'index'])\n",
        "X_test = X_test.drop(columns=['Native country', 'index'])\n",
        "\n",
        "\n",
        "text_columns = [\"Education\", \"Workclass\", \"Marital-status\", \"Occupation\", \n",
        "                \"Relationship\", \"Sex\"]\n",
        "\n",
        "for col in text_columns:\n",
        "    imputer = SimpleImputer(missing_values=' ?',\n",
        "                             strategy='constant',\n",
        "                             fill_value='Unknown')\n",
        "    X_train[col] = imputer.fit_transform(X_train[col].values.reshape(-1, 1))\n",
        "    X_test[col] = imputer.transform(X_test[col].values.reshape(-1, 1))\n"
      ],
      "execution_count": 0,
      "outputs": []
    },
    {
      "cell_type": "markdown",
      "metadata": {
        "pycharm": {
          "name": "#%% md\n"
        },
        "id": "NhXfdmVq7RtC",
        "colab_type": "text"
      },
      "source": [
        "#### 2.2.2 Formatage de « Income » (Train seulement)"
      ]
    },
    {
      "cell_type": "code",
      "metadata": {
        "pycharm": {
          "is_executing": false,
          "name": "#%%\n"
        },
        "id": "DJ6CYA4C7RtE",
        "colab_type": "code",
        "colab": {
          "base_uri": "https://localhost:8080/",
          "height": 206
        },
        "outputId": "3d94c881-3287-4044-9b39-b360e6802d7e"
      },
      "source": [
        "# quite damn long\n",
        "\n",
        "data = X_train\n",
        "over_50k = X_train.apply(lambda row: pd.Series('>' in row[\"Income\"]), axis=1)\n",
        "over_50k.columns = [\"over 50k\"]\n",
        "\n",
        "X_train = X_train.drop(columns = [\"Income\"])\n",
        "X_train = pd.concat([X_train, pd.DataFrame(over_50k)], axis = 1)\n",
        "\n",
        "over_50k_label = LabelEncoder()\n",
        "X_train[\"over 50k\"] = over_50k_label.fit_transform(X_train[\"over 50k\"].values)\n",
        "\n",
        "X_train.head()"
      ],
      "execution_count": 11,
      "outputs": [
        {
          "output_type": "execute_result",
          "data": {
            "text/html": [
              "<div>\n",
              "<style scoped>\n",
              "    .dataframe tbody tr th:only-of-type {\n",
              "        vertical-align: middle;\n",
              "    }\n",
              "\n",
              "    .dataframe tbody tr th {\n",
              "        vertical-align: top;\n",
              "    }\n",
              "\n",
              "    .dataframe thead th {\n",
              "        text-align: right;\n",
              "    }\n",
              "</style>\n",
              "<table border=\"1\" class=\"dataframe\">\n",
              "  <thead>\n",
              "    <tr style=\"text-align: right;\">\n",
              "      <th></th>\n",
              "      <th>Age</th>\n",
              "      <th>Workclass</th>\n",
              "      <th>Final weight</th>\n",
              "      <th>Education</th>\n",
              "      <th>Marital-status</th>\n",
              "      <th>Occupation</th>\n",
              "      <th>Relationship</th>\n",
              "      <th>Sex</th>\n",
              "      <th>Capital-gain</th>\n",
              "      <th>Capital-loss</th>\n",
              "      <th>Hours per week</th>\n",
              "      <th>over 50k</th>\n",
              "    </tr>\n",
              "  </thead>\n",
              "  <tbody>\n",
              "    <tr>\n",
              "      <th>0</th>\n",
              "      <td>36</td>\n",
              "      <td>Private</td>\n",
              "      <td>31023</td>\n",
              "      <td>Masters</td>\n",
              "      <td>Married-civ-spouse</td>\n",
              "      <td>Exec-managerial</td>\n",
              "      <td>Husband</td>\n",
              "      <td>Male</td>\n",
              "      <td>0</td>\n",
              "      <td>0</td>\n",
              "      <td>50</td>\n",
              "      <td>1</td>\n",
              "    </tr>\n",
              "    <tr>\n",
              "      <th>1</th>\n",
              "      <td>52</td>\n",
              "      <td>Unknown</td>\n",
              "      <td>159755</td>\n",
              "      <td>Assoc-voc</td>\n",
              "      <td>Married-civ-spouse</td>\n",
              "      <td>Unknown</td>\n",
              "      <td>Husband</td>\n",
              "      <td>Male</td>\n",
              "      <td>0</td>\n",
              "      <td>0</td>\n",
              "      <td>50</td>\n",
              "      <td>1</td>\n",
              "    </tr>\n",
              "    <tr>\n",
              "      <th>2</th>\n",
              "      <td>36</td>\n",
              "      <td>Private</td>\n",
              "      <td>359001</td>\n",
              "      <td>Assoc-voc</td>\n",
              "      <td>Divorced</td>\n",
              "      <td>Craft-repair</td>\n",
              "      <td>Not-in-family</td>\n",
              "      <td>Male</td>\n",
              "      <td>0</td>\n",
              "      <td>0</td>\n",
              "      <td>40</td>\n",
              "      <td>0</td>\n",
              "    </tr>\n",
              "    <tr>\n",
              "      <th>3</th>\n",
              "      <td>42</td>\n",
              "      <td>Self-emp-inc</td>\n",
              "      <td>188615</td>\n",
              "      <td>Bachelors</td>\n",
              "      <td>Married-civ-spouse</td>\n",
              "      <td>Sales</td>\n",
              "      <td>Husband</td>\n",
              "      <td>Male</td>\n",
              "      <td>0</td>\n",
              "      <td>0</td>\n",
              "      <td>60</td>\n",
              "      <td>1</td>\n",
              "    </tr>\n",
              "    <tr>\n",
              "      <th>4</th>\n",
              "      <td>44</td>\n",
              "      <td>Private</td>\n",
              "      <td>43711</td>\n",
              "      <td>Bachelors</td>\n",
              "      <td>Never-married</td>\n",
              "      <td>Other-service</td>\n",
              "      <td>Not-in-family</td>\n",
              "      <td>Male</td>\n",
              "      <td>0</td>\n",
              "      <td>0</td>\n",
              "      <td>48</td>\n",
              "      <td>0</td>\n",
              "    </tr>\n",
              "  </tbody>\n",
              "</table>\n",
              "</div>"
            ],
            "text/plain": [
              "   Age      Workclass  Final weight  ... Capital-loss Hours per week over 50k\n",
              "0   36        Private         31023  ...            0             50        1\n",
              "1   52        Unknown        159755  ...            0             50        1\n",
              "2   36        Private        359001  ...            0             40        0\n",
              "3   42   Self-emp-inc        188615  ...            0             60        1\n",
              "4   44        Private         43711  ...            0             48        0\n",
              "\n",
              "[5 rows x 12 columns]"
            ]
          },
          "metadata": {
            "tags": []
          },
          "execution_count": 11
        }
      ]
    },
    {
      "cell_type": "markdown",
      "metadata": {
        "pycharm": {
          "name": "#%% md\n"
        },
        "id": "ZfDS7RXt7RtL",
        "colab_type": "text"
      },
      "source": [
        "#### 2.2.3 Encodage « One-hot »"
      ]
    },
    {
      "cell_type": "code",
      "metadata": {
        "pycharm": {
          "is_executing": false,
          "name": "#%%\n"
        },
        "id": "krO6GQIj7RtN",
        "colab_type": "code",
        "colab": {}
      },
      "source": [
        "from sklearn.preprocessing import OneHotEncoder\n",
        "\n",
        "# encoder = OneHotEncoder(categories = 'auto', sparse = False)\n",
        "\n",
        "encoder_dict = {col: OneHotEncoder(categories='auto', sparse=False)\n",
        "                for col in text_columns}\n",
        "\n",
        "def encode_column(data: pd.DataFrame, col_name: str, method: str) -> pd.DataFrame:\n",
        "    encoder = encoder_dict[col_name]\n",
        "    encoded = pd.DataFrame(getattr(encoder, method)(data[col_name].values.reshape(-1, 1)))\n",
        "    encoded.columns = encoder.get_feature_names()\n",
        "    return encoded\n",
        "\n",
        "new_column_train = [encode_column(data=X_train, col_name=column, method='fit_transform') \n",
        "                    for column in text_columns]\n",
        "new_column_test = [encode_column(data=X_test, col_name=column, method='fit_transform') # TODO change to transform\n",
        "                   for column in text_columns]\n",
        "\n",
        "# insert new dataframes\n",
        "X_train = pd.concat([X_train, *new_column_train], axis = 1)\n",
        "X_test = pd.concat([X_test, *new_column_test], axis = 1)\n",
        "\n"
      ],
      "execution_count": 0,
      "outputs": []
    },
    {
      "cell_type": "markdown",
      "metadata": {
        "pycharm": {
          "name": "#%% md\n"
        },
        "id": "AqoByiq97RtW",
        "colab_type": "text"
      },
      "source": [
        "#### 2.2.4 Normalization"
      ]
    },
    {
      "cell_type": "code",
      "metadata": {
        "pycharm": {
          "is_executing": false
        },
        "id": "Ajk5JLMc7RtY",
        "colab_type": "code",
        "colab": {}
      },
      "source": [
        "from sklearn.preprocessing import StandardScaler\n",
        "\n",
        "numeric_columns = [\"Age\", \"Final weight\", \"Capital-gain\", \"Capital-loss\", \"Hours per week\"]\n",
        "\n",
        "def scale_data(data: pd.DataFrame, method: str):\n",
        "    if not hasattr(scale_data, 'scaler_dict'):\n",
        "        scale_data.scaler_dict = {k: StandardScaler() for k in numeric_columns}\n",
        "    for col in numeric_columns:\n",
        "        data[col] = getattr(scale_data.scaler_dict[col], method)(data[col].values.reshape(-1, 1))\n",
        "        \n",
        "scale_data(data=X_train, method='fit_transform')\n",
        "scale_data(data=X_test, method='transform')"
      ],
      "execution_count": 0,
      "outputs": []
    },
    {
      "cell_type": "markdown",
      "metadata": {
        "pycharm": {
          "name": "#%% md\n"
        },
        "id": "dAKj8Ivh7Rth",
        "colab_type": "text"
      },
      "source": [
        "#### Drop old columns"
      ]
    },
    {
      "cell_type": "code",
      "metadata": {
        "pycharm": {
          "is_executing": false,
          "name": "#%%\n"
        },
        "id": "E5Du8Evi7Rtj",
        "colab_type": "code",
        "colab": {}
      },
      "source": [
        "X_train = X_train.drop(columns=text_columns)\n",
        "X_test = X_test.drop(columns=text_columns)"
      ],
      "execution_count": 0,
      "outputs": []
    },
    {
      "cell_type": "markdown",
      "metadata": {
        "pycharm": {
          "name": "#%% md\n"
        },
        "id": "zANegP_p7Rtp",
        "colab_type": "text"
      },
      "source": [
        "#### Visualisation des résultats"
      ]
    },
    {
      "cell_type": "code",
      "metadata": {
        "pycharm": {
          "is_executing": false,
          "name": "#%%\n"
        },
        "id": "4Ca_SbL07Rtr",
        "colab_type": "code",
        "colab": {
          "base_uri": "https://localhost:8080/",
          "height": 296
        },
        "outputId": "5c785313-c6cd-4e3f-d8c6-e847b98f76ca"
      },
      "source": [
        "X_train.head()"
      ],
      "execution_count": 15,
      "outputs": [
        {
          "output_type": "execute_result",
          "data": {
            "text/html": [
              "<div>\n",
              "<style scoped>\n",
              "    .dataframe tbody tr th:only-of-type {\n",
              "        vertical-align: middle;\n",
              "    }\n",
              "\n",
              "    .dataframe tbody tr th {\n",
              "        vertical-align: top;\n",
              "    }\n",
              "\n",
              "    .dataframe thead th {\n",
              "        text-align: right;\n",
              "    }\n",
              "</style>\n",
              "<table border=\"1\" class=\"dataframe\">\n",
              "  <thead>\n",
              "    <tr style=\"text-align: right;\">\n",
              "      <th></th>\n",
              "      <th>Age</th>\n",
              "      <th>Final weight</th>\n",
              "      <th>Capital-gain</th>\n",
              "      <th>Capital-loss</th>\n",
              "      <th>Hours per week</th>\n",
              "      <th>over 50k</th>\n",
              "      <th>x0_ 10th</th>\n",
              "      <th>x0_ 11th</th>\n",
              "      <th>x0_ 12th</th>\n",
              "      <th>x0_ 1st-4th</th>\n",
              "      <th>x0_ 5th-6th</th>\n",
              "      <th>x0_ 7th-8th</th>\n",
              "      <th>x0_ 9th</th>\n",
              "      <th>x0_ Assoc-acdm</th>\n",
              "      <th>x0_ Assoc-voc</th>\n",
              "      <th>x0_ Bachelors</th>\n",
              "      <th>x0_ Doctorate</th>\n",
              "      <th>x0_ HS-grad</th>\n",
              "      <th>x0_ Masters</th>\n",
              "      <th>x0_ Preschool</th>\n",
              "      <th>x0_ Prof-school</th>\n",
              "      <th>x0_ Some-college</th>\n",
              "      <th>x0_ Federal-gov</th>\n",
              "      <th>x0_ Local-gov</th>\n",
              "      <th>x0_ Never-worked</th>\n",
              "      <th>x0_ Private</th>\n",
              "      <th>x0_ Self-emp-inc</th>\n",
              "      <th>x0_ Self-emp-not-inc</th>\n",
              "      <th>x0_ State-gov</th>\n",
              "      <th>x0_ Without-pay</th>\n",
              "      <th>x0_Unknown</th>\n",
              "      <th>x0_ Divorced</th>\n",
              "      <th>x0_ Married-AF-spouse</th>\n",
              "      <th>x0_ Married-civ-spouse</th>\n",
              "      <th>x0_ Married-spouse-absent</th>\n",
              "      <th>x0_ Never-married</th>\n",
              "      <th>x0_ Separated</th>\n",
              "      <th>x0_ Widowed</th>\n",
              "      <th>x0_ Adm-clerical</th>\n",
              "      <th>x0_ Armed-Forces</th>\n",
              "      <th>x0_ Craft-repair</th>\n",
              "      <th>x0_ Exec-managerial</th>\n",
              "      <th>x0_ Farming-fishing</th>\n",
              "      <th>x0_ Handlers-cleaners</th>\n",
              "      <th>x0_ Machine-op-inspct</th>\n",
              "      <th>x0_ Other-service</th>\n",
              "      <th>x0_ Priv-house-serv</th>\n",
              "      <th>x0_ Prof-specialty</th>\n",
              "      <th>x0_ Protective-serv</th>\n",
              "      <th>x0_ Sales</th>\n",
              "      <th>x0_ Tech-support</th>\n",
              "      <th>x0_ Transport-moving</th>\n",
              "      <th>x0_Unknown</th>\n",
              "      <th>x0_ Husband</th>\n",
              "      <th>x0_ Not-in-family</th>\n",
              "      <th>x0_ Other-relative</th>\n",
              "      <th>x0_ Own-child</th>\n",
              "      <th>x0_ Unmarried</th>\n",
              "      <th>x0_ Wife</th>\n",
              "      <th>x0_ Female</th>\n",
              "      <th>x0_ Male</th>\n",
              "    </tr>\n",
              "  </thead>\n",
              "  <tbody>\n",
              "    <tr>\n",
              "      <th>0</th>\n",
              "      <td>-0.190154</td>\n",
              "      <td>-1.503257</td>\n",
              "      <td>-0.146117</td>\n",
              "      <td>-0.218564</td>\n",
              "      <td>0.774580</td>\n",
              "      <td>1</td>\n",
              "      <td>0.0</td>\n",
              "      <td>0.0</td>\n",
              "      <td>0.0</td>\n",
              "      <td>0.0</td>\n",
              "      <td>0.0</td>\n",
              "      <td>0.0</td>\n",
              "      <td>0.0</td>\n",
              "      <td>0.0</td>\n",
              "      <td>0.0</td>\n",
              "      <td>0.0</td>\n",
              "      <td>0.0</td>\n",
              "      <td>0.0</td>\n",
              "      <td>1.0</td>\n",
              "      <td>0.0</td>\n",
              "      <td>0.0</td>\n",
              "      <td>0.0</td>\n",
              "      <td>0.0</td>\n",
              "      <td>0.0</td>\n",
              "      <td>0.0</td>\n",
              "      <td>1.0</td>\n",
              "      <td>0.0</td>\n",
              "      <td>0.0</td>\n",
              "      <td>0.0</td>\n",
              "      <td>0.0</td>\n",
              "      <td>0.0</td>\n",
              "      <td>0.0</td>\n",
              "      <td>0.0</td>\n",
              "      <td>1.0</td>\n",
              "      <td>0.0</td>\n",
              "      <td>0.0</td>\n",
              "      <td>0.0</td>\n",
              "      <td>0.0</td>\n",
              "      <td>0.0</td>\n",
              "      <td>0.0</td>\n",
              "      <td>0.0</td>\n",
              "      <td>1.0</td>\n",
              "      <td>0.0</td>\n",
              "      <td>0.0</td>\n",
              "      <td>0.0</td>\n",
              "      <td>0.0</td>\n",
              "      <td>0.0</td>\n",
              "      <td>0.0</td>\n",
              "      <td>0.0</td>\n",
              "      <td>0.0</td>\n",
              "      <td>0.0</td>\n",
              "      <td>0.0</td>\n",
              "      <td>0.0</td>\n",
              "      <td>1.0</td>\n",
              "      <td>0.0</td>\n",
              "      <td>0.0</td>\n",
              "      <td>0.0</td>\n",
              "      <td>0.0</td>\n",
              "      <td>0.0</td>\n",
              "      <td>0.0</td>\n",
              "      <td>1.0</td>\n",
              "    </tr>\n",
              "    <tr>\n",
              "      <th>1</th>\n",
              "      <td>0.974165</td>\n",
              "      <td>-0.285780</td>\n",
              "      <td>-0.146117</td>\n",
              "      <td>-0.218564</td>\n",
              "      <td>0.774580</td>\n",
              "      <td>1</td>\n",
              "      <td>0.0</td>\n",
              "      <td>0.0</td>\n",
              "      <td>0.0</td>\n",
              "      <td>0.0</td>\n",
              "      <td>0.0</td>\n",
              "      <td>0.0</td>\n",
              "      <td>0.0</td>\n",
              "      <td>0.0</td>\n",
              "      <td>1.0</td>\n",
              "      <td>0.0</td>\n",
              "      <td>0.0</td>\n",
              "      <td>0.0</td>\n",
              "      <td>0.0</td>\n",
              "      <td>0.0</td>\n",
              "      <td>0.0</td>\n",
              "      <td>0.0</td>\n",
              "      <td>0.0</td>\n",
              "      <td>0.0</td>\n",
              "      <td>0.0</td>\n",
              "      <td>0.0</td>\n",
              "      <td>0.0</td>\n",
              "      <td>0.0</td>\n",
              "      <td>0.0</td>\n",
              "      <td>0.0</td>\n",
              "      <td>1.0</td>\n",
              "      <td>0.0</td>\n",
              "      <td>0.0</td>\n",
              "      <td>1.0</td>\n",
              "      <td>0.0</td>\n",
              "      <td>0.0</td>\n",
              "      <td>0.0</td>\n",
              "      <td>0.0</td>\n",
              "      <td>0.0</td>\n",
              "      <td>0.0</td>\n",
              "      <td>0.0</td>\n",
              "      <td>0.0</td>\n",
              "      <td>0.0</td>\n",
              "      <td>0.0</td>\n",
              "      <td>0.0</td>\n",
              "      <td>0.0</td>\n",
              "      <td>0.0</td>\n",
              "      <td>0.0</td>\n",
              "      <td>0.0</td>\n",
              "      <td>0.0</td>\n",
              "      <td>0.0</td>\n",
              "      <td>0.0</td>\n",
              "      <td>1.0</td>\n",
              "      <td>1.0</td>\n",
              "      <td>0.0</td>\n",
              "      <td>0.0</td>\n",
              "      <td>0.0</td>\n",
              "      <td>0.0</td>\n",
              "      <td>0.0</td>\n",
              "      <td>0.0</td>\n",
              "      <td>1.0</td>\n",
              "    </tr>\n",
              "    <tr>\n",
              "      <th>2</th>\n",
              "      <td>-0.190154</td>\n",
              "      <td>1.598580</td>\n",
              "      <td>-0.146117</td>\n",
              "      <td>-0.218564</td>\n",
              "      <td>-0.030764</td>\n",
              "      <td>0</td>\n",
              "      <td>0.0</td>\n",
              "      <td>0.0</td>\n",
              "      <td>0.0</td>\n",
              "      <td>0.0</td>\n",
              "      <td>0.0</td>\n",
              "      <td>0.0</td>\n",
              "      <td>0.0</td>\n",
              "      <td>0.0</td>\n",
              "      <td>1.0</td>\n",
              "      <td>0.0</td>\n",
              "      <td>0.0</td>\n",
              "      <td>0.0</td>\n",
              "      <td>0.0</td>\n",
              "      <td>0.0</td>\n",
              "      <td>0.0</td>\n",
              "      <td>0.0</td>\n",
              "      <td>0.0</td>\n",
              "      <td>0.0</td>\n",
              "      <td>0.0</td>\n",
              "      <td>1.0</td>\n",
              "      <td>0.0</td>\n",
              "      <td>0.0</td>\n",
              "      <td>0.0</td>\n",
              "      <td>0.0</td>\n",
              "      <td>0.0</td>\n",
              "      <td>1.0</td>\n",
              "      <td>0.0</td>\n",
              "      <td>0.0</td>\n",
              "      <td>0.0</td>\n",
              "      <td>0.0</td>\n",
              "      <td>0.0</td>\n",
              "      <td>0.0</td>\n",
              "      <td>0.0</td>\n",
              "      <td>0.0</td>\n",
              "      <td>1.0</td>\n",
              "      <td>0.0</td>\n",
              "      <td>0.0</td>\n",
              "      <td>0.0</td>\n",
              "      <td>0.0</td>\n",
              "      <td>0.0</td>\n",
              "      <td>0.0</td>\n",
              "      <td>0.0</td>\n",
              "      <td>0.0</td>\n",
              "      <td>0.0</td>\n",
              "      <td>0.0</td>\n",
              "      <td>0.0</td>\n",
              "      <td>0.0</td>\n",
              "      <td>0.0</td>\n",
              "      <td>1.0</td>\n",
              "      <td>0.0</td>\n",
              "      <td>0.0</td>\n",
              "      <td>0.0</td>\n",
              "      <td>0.0</td>\n",
              "      <td>0.0</td>\n",
              "      <td>1.0</td>\n",
              "    </tr>\n",
              "    <tr>\n",
              "      <th>3</th>\n",
              "      <td>0.246465</td>\n",
              "      <td>-0.012838</td>\n",
              "      <td>-0.146117</td>\n",
              "      <td>-0.218564</td>\n",
              "      <td>1.579923</td>\n",
              "      <td>1</td>\n",
              "      <td>0.0</td>\n",
              "      <td>0.0</td>\n",
              "      <td>0.0</td>\n",
              "      <td>0.0</td>\n",
              "      <td>0.0</td>\n",
              "      <td>0.0</td>\n",
              "      <td>0.0</td>\n",
              "      <td>0.0</td>\n",
              "      <td>0.0</td>\n",
              "      <td>1.0</td>\n",
              "      <td>0.0</td>\n",
              "      <td>0.0</td>\n",
              "      <td>0.0</td>\n",
              "      <td>0.0</td>\n",
              "      <td>0.0</td>\n",
              "      <td>0.0</td>\n",
              "      <td>0.0</td>\n",
              "      <td>0.0</td>\n",
              "      <td>0.0</td>\n",
              "      <td>0.0</td>\n",
              "      <td>1.0</td>\n",
              "      <td>0.0</td>\n",
              "      <td>0.0</td>\n",
              "      <td>0.0</td>\n",
              "      <td>0.0</td>\n",
              "      <td>0.0</td>\n",
              "      <td>0.0</td>\n",
              "      <td>1.0</td>\n",
              "      <td>0.0</td>\n",
              "      <td>0.0</td>\n",
              "      <td>0.0</td>\n",
              "      <td>0.0</td>\n",
              "      <td>0.0</td>\n",
              "      <td>0.0</td>\n",
              "      <td>0.0</td>\n",
              "      <td>0.0</td>\n",
              "      <td>0.0</td>\n",
              "      <td>0.0</td>\n",
              "      <td>0.0</td>\n",
              "      <td>0.0</td>\n",
              "      <td>0.0</td>\n",
              "      <td>0.0</td>\n",
              "      <td>0.0</td>\n",
              "      <td>1.0</td>\n",
              "      <td>0.0</td>\n",
              "      <td>0.0</td>\n",
              "      <td>0.0</td>\n",
              "      <td>1.0</td>\n",
              "      <td>0.0</td>\n",
              "      <td>0.0</td>\n",
              "      <td>0.0</td>\n",
              "      <td>0.0</td>\n",
              "      <td>0.0</td>\n",
              "      <td>0.0</td>\n",
              "      <td>1.0</td>\n",
              "    </tr>\n",
              "    <tr>\n",
              "      <th>4</th>\n",
              "      <td>0.392005</td>\n",
              "      <td>-1.383261</td>\n",
              "      <td>-0.146117</td>\n",
              "      <td>-0.218564</td>\n",
              "      <td>0.613511</td>\n",
              "      <td>0</td>\n",
              "      <td>0.0</td>\n",
              "      <td>0.0</td>\n",
              "      <td>0.0</td>\n",
              "      <td>0.0</td>\n",
              "      <td>0.0</td>\n",
              "      <td>0.0</td>\n",
              "      <td>0.0</td>\n",
              "      <td>0.0</td>\n",
              "      <td>0.0</td>\n",
              "      <td>1.0</td>\n",
              "      <td>0.0</td>\n",
              "      <td>0.0</td>\n",
              "      <td>0.0</td>\n",
              "      <td>0.0</td>\n",
              "      <td>0.0</td>\n",
              "      <td>0.0</td>\n",
              "      <td>0.0</td>\n",
              "      <td>0.0</td>\n",
              "      <td>0.0</td>\n",
              "      <td>1.0</td>\n",
              "      <td>0.0</td>\n",
              "      <td>0.0</td>\n",
              "      <td>0.0</td>\n",
              "      <td>0.0</td>\n",
              "      <td>0.0</td>\n",
              "      <td>0.0</td>\n",
              "      <td>0.0</td>\n",
              "      <td>0.0</td>\n",
              "      <td>0.0</td>\n",
              "      <td>1.0</td>\n",
              "      <td>0.0</td>\n",
              "      <td>0.0</td>\n",
              "      <td>0.0</td>\n",
              "      <td>0.0</td>\n",
              "      <td>0.0</td>\n",
              "      <td>0.0</td>\n",
              "      <td>0.0</td>\n",
              "      <td>0.0</td>\n",
              "      <td>0.0</td>\n",
              "      <td>1.0</td>\n",
              "      <td>0.0</td>\n",
              "      <td>0.0</td>\n",
              "      <td>0.0</td>\n",
              "      <td>0.0</td>\n",
              "      <td>0.0</td>\n",
              "      <td>0.0</td>\n",
              "      <td>0.0</td>\n",
              "      <td>0.0</td>\n",
              "      <td>1.0</td>\n",
              "      <td>0.0</td>\n",
              "      <td>0.0</td>\n",
              "      <td>0.0</td>\n",
              "      <td>0.0</td>\n",
              "      <td>0.0</td>\n",
              "      <td>1.0</td>\n",
              "    </tr>\n",
              "  </tbody>\n",
              "</table>\n",
              "</div>"
            ],
            "text/plain": [
              "        Age  Final weight  Capital-gain  ...  x0_ Wife  x0_ Female  x0_ Male\n",
              "0 -0.190154     -1.503257     -0.146117  ...       0.0         0.0       1.0\n",
              "1  0.974165     -0.285780     -0.146117  ...       0.0         0.0       1.0\n",
              "2 -0.190154      1.598580     -0.146117  ...       0.0         0.0       1.0\n",
              "3  0.246465     -0.012838     -0.146117  ...       0.0         0.0       1.0\n",
              "4  0.392005     -1.383261     -0.146117  ...       0.0         0.0       1.0\n",
              "\n",
              "[5 rows x 61 columns]"
            ]
          },
          "metadata": {
            "tags": []
          },
          "execution_count": 15
        }
      ]
    },
    {
      "cell_type": "code",
      "metadata": {
        "pycharm": {
          "is_executing": false,
          "name": "#%%\n"
        },
        "id": "4QIdTEdj7Rtw",
        "colab_type": "code",
        "colab": {
          "base_uri": "https://localhost:8080/",
          "height": 296
        },
        "outputId": "030408ef-2cd6-4f8e-c819-3fef0d7bf7b3"
      },
      "source": [
        "X_test.head()"
      ],
      "execution_count": 16,
      "outputs": [
        {
          "output_type": "execute_result",
          "data": {
            "text/html": [
              "<div>\n",
              "<style scoped>\n",
              "    .dataframe tbody tr th:only-of-type {\n",
              "        vertical-align: middle;\n",
              "    }\n",
              "\n",
              "    .dataframe tbody tr th {\n",
              "        vertical-align: top;\n",
              "    }\n",
              "\n",
              "    .dataframe thead th {\n",
              "        text-align: right;\n",
              "    }\n",
              "</style>\n",
              "<table border=\"1\" class=\"dataframe\">\n",
              "  <thead>\n",
              "    <tr style=\"text-align: right;\">\n",
              "      <th></th>\n",
              "      <th>Age</th>\n",
              "      <th>Final weight</th>\n",
              "      <th>Capital-gain</th>\n",
              "      <th>Capital-loss</th>\n",
              "      <th>Hours per week</th>\n",
              "      <th>x0_ 10th</th>\n",
              "      <th>x0_ 11th</th>\n",
              "      <th>x0_ 12th</th>\n",
              "      <th>x0_ 1st-4th</th>\n",
              "      <th>x0_ 5th-6th</th>\n",
              "      <th>x0_ 7th-8th</th>\n",
              "      <th>x0_ 9th</th>\n",
              "      <th>x0_ Assoc-acdm</th>\n",
              "      <th>x0_ Assoc-voc</th>\n",
              "      <th>x0_ Bachelors</th>\n",
              "      <th>x0_ Doctorate</th>\n",
              "      <th>x0_ HS-grad</th>\n",
              "      <th>x0_ Masters</th>\n",
              "      <th>x0_ Preschool</th>\n",
              "      <th>x0_ Prof-school</th>\n",
              "      <th>x0_ Some-college</th>\n",
              "      <th>x0_ Federal-gov</th>\n",
              "      <th>x0_ Local-gov</th>\n",
              "      <th>x0_ Private</th>\n",
              "      <th>x0_ Self-emp-inc</th>\n",
              "      <th>x0_ Self-emp-not-inc</th>\n",
              "      <th>x0_ State-gov</th>\n",
              "      <th>x0_ Without-pay</th>\n",
              "      <th>x0_Unknown</th>\n",
              "      <th>x0_ Divorced</th>\n",
              "      <th>x0_ Married-AF-spouse</th>\n",
              "      <th>x0_ Married-civ-spouse</th>\n",
              "      <th>x0_ Married-spouse-absent</th>\n",
              "      <th>x0_ Never-married</th>\n",
              "      <th>x0_ Separated</th>\n",
              "      <th>x0_ Widowed</th>\n",
              "      <th>x0_ Adm-clerical</th>\n",
              "      <th>x0_ Armed-Forces</th>\n",
              "      <th>x0_ Craft-repair</th>\n",
              "      <th>x0_ Exec-managerial</th>\n",
              "      <th>x0_ Farming-fishing</th>\n",
              "      <th>x0_ Handlers-cleaners</th>\n",
              "      <th>x0_ Machine-op-inspct</th>\n",
              "      <th>x0_ Other-service</th>\n",
              "      <th>x0_ Priv-house-serv</th>\n",
              "      <th>x0_ Prof-specialty</th>\n",
              "      <th>x0_ Protective-serv</th>\n",
              "      <th>x0_ Sales</th>\n",
              "      <th>x0_ Tech-support</th>\n",
              "      <th>x0_ Transport-moving</th>\n",
              "      <th>x0_Unknown</th>\n",
              "      <th>x0_ Husband</th>\n",
              "      <th>x0_ Not-in-family</th>\n",
              "      <th>x0_ Other-relative</th>\n",
              "      <th>x0_ Own-child</th>\n",
              "      <th>x0_ Unmarried</th>\n",
              "      <th>x0_ Wife</th>\n",
              "      <th>x0_ Female</th>\n",
              "      <th>x0_ Male</th>\n",
              "    </tr>\n",
              "  </thead>\n",
              "  <tbody>\n",
              "    <tr>\n",
              "      <th>0</th>\n",
              "      <td>-1.500012</td>\n",
              "      <td>2.204075</td>\n",
              "      <td>-0.146117</td>\n",
              "      <td>-0.218564</td>\n",
              "      <td>-1.641450</td>\n",
              "      <td>0.0</td>\n",
              "      <td>0.0</td>\n",
              "      <td>0.0</td>\n",
              "      <td>0.0</td>\n",
              "      <td>0.0</td>\n",
              "      <td>0.0</td>\n",
              "      <td>0.0</td>\n",
              "      <td>0.0</td>\n",
              "      <td>0.0</td>\n",
              "      <td>0.0</td>\n",
              "      <td>0.0</td>\n",
              "      <td>1.0</td>\n",
              "      <td>0.0</td>\n",
              "      <td>0.0</td>\n",
              "      <td>0.0</td>\n",
              "      <td>0.0</td>\n",
              "      <td>0.0</td>\n",
              "      <td>0.0</td>\n",
              "      <td>1.0</td>\n",
              "      <td>0.0</td>\n",
              "      <td>0.0</td>\n",
              "      <td>0.0</td>\n",
              "      <td>0.0</td>\n",
              "      <td>0.0</td>\n",
              "      <td>0.0</td>\n",
              "      <td>0.0</td>\n",
              "      <td>0.0</td>\n",
              "      <td>0.0</td>\n",
              "      <td>1.0</td>\n",
              "      <td>0.0</td>\n",
              "      <td>0.0</td>\n",
              "      <td>0.0</td>\n",
              "      <td>0.0</td>\n",
              "      <td>0.0</td>\n",
              "      <td>0.0</td>\n",
              "      <td>0.0</td>\n",
              "      <td>0.0</td>\n",
              "      <td>0.0</td>\n",
              "      <td>1.0</td>\n",
              "      <td>0.0</td>\n",
              "      <td>0.0</td>\n",
              "      <td>0.0</td>\n",
              "      <td>0.0</td>\n",
              "      <td>0.0</td>\n",
              "      <td>0.0</td>\n",
              "      <td>0.0</td>\n",
              "      <td>0.0</td>\n",
              "      <td>1.0</td>\n",
              "      <td>0.0</td>\n",
              "      <td>0.0</td>\n",
              "      <td>0.0</td>\n",
              "      <td>0.0</td>\n",
              "      <td>0.0</td>\n",
              "      <td>1.0</td>\n",
              "    </tr>\n",
              "    <tr>\n",
              "      <th>1</th>\n",
              "      <td>-1.572782</td>\n",
              "      <td>-0.104216</td>\n",
              "      <td>-0.146117</td>\n",
              "      <td>-0.218564</td>\n",
              "      <td>-1.641450</td>\n",
              "      <td>0.0</td>\n",
              "      <td>0.0</td>\n",
              "      <td>1.0</td>\n",
              "      <td>0.0</td>\n",
              "      <td>0.0</td>\n",
              "      <td>0.0</td>\n",
              "      <td>0.0</td>\n",
              "      <td>0.0</td>\n",
              "      <td>0.0</td>\n",
              "      <td>0.0</td>\n",
              "      <td>0.0</td>\n",
              "      <td>0.0</td>\n",
              "      <td>0.0</td>\n",
              "      <td>0.0</td>\n",
              "      <td>0.0</td>\n",
              "      <td>0.0</td>\n",
              "      <td>0.0</td>\n",
              "      <td>0.0</td>\n",
              "      <td>1.0</td>\n",
              "      <td>0.0</td>\n",
              "      <td>0.0</td>\n",
              "      <td>0.0</td>\n",
              "      <td>0.0</td>\n",
              "      <td>0.0</td>\n",
              "      <td>0.0</td>\n",
              "      <td>0.0</td>\n",
              "      <td>0.0</td>\n",
              "      <td>0.0</td>\n",
              "      <td>1.0</td>\n",
              "      <td>0.0</td>\n",
              "      <td>0.0</td>\n",
              "      <td>0.0</td>\n",
              "      <td>0.0</td>\n",
              "      <td>0.0</td>\n",
              "      <td>0.0</td>\n",
              "      <td>0.0</td>\n",
              "      <td>0.0</td>\n",
              "      <td>0.0</td>\n",
              "      <td>0.0</td>\n",
              "      <td>0.0</td>\n",
              "      <td>0.0</td>\n",
              "      <td>0.0</td>\n",
              "      <td>1.0</td>\n",
              "      <td>0.0</td>\n",
              "      <td>0.0</td>\n",
              "      <td>0.0</td>\n",
              "      <td>0.0</td>\n",
              "      <td>0.0</td>\n",
              "      <td>0.0</td>\n",
              "      <td>1.0</td>\n",
              "      <td>0.0</td>\n",
              "      <td>0.0</td>\n",
              "      <td>1.0</td>\n",
              "      <td>0.0</td>\n",
              "    </tr>\n",
              "    <tr>\n",
              "      <th>2</th>\n",
              "      <td>-0.990623</td>\n",
              "      <td>1.503864</td>\n",
              "      <td>-0.146117</td>\n",
              "      <td>-0.218564</td>\n",
              "      <td>-0.030764</td>\n",
              "      <td>0.0</td>\n",
              "      <td>0.0</td>\n",
              "      <td>0.0</td>\n",
              "      <td>0.0</td>\n",
              "      <td>0.0</td>\n",
              "      <td>0.0</td>\n",
              "      <td>0.0</td>\n",
              "      <td>0.0</td>\n",
              "      <td>0.0</td>\n",
              "      <td>0.0</td>\n",
              "      <td>0.0</td>\n",
              "      <td>1.0</td>\n",
              "      <td>0.0</td>\n",
              "      <td>0.0</td>\n",
              "      <td>0.0</td>\n",
              "      <td>0.0</td>\n",
              "      <td>0.0</td>\n",
              "      <td>1.0</td>\n",
              "      <td>0.0</td>\n",
              "      <td>0.0</td>\n",
              "      <td>0.0</td>\n",
              "      <td>0.0</td>\n",
              "      <td>0.0</td>\n",
              "      <td>0.0</td>\n",
              "      <td>0.0</td>\n",
              "      <td>0.0</td>\n",
              "      <td>0.0</td>\n",
              "      <td>0.0</td>\n",
              "      <td>1.0</td>\n",
              "      <td>0.0</td>\n",
              "      <td>0.0</td>\n",
              "      <td>0.0</td>\n",
              "      <td>0.0</td>\n",
              "      <td>0.0</td>\n",
              "      <td>0.0</td>\n",
              "      <td>0.0</td>\n",
              "      <td>1.0</td>\n",
              "      <td>0.0</td>\n",
              "      <td>0.0</td>\n",
              "      <td>0.0</td>\n",
              "      <td>0.0</td>\n",
              "      <td>0.0</td>\n",
              "      <td>0.0</td>\n",
              "      <td>0.0</td>\n",
              "      <td>0.0</td>\n",
              "      <td>0.0</td>\n",
              "      <td>0.0</td>\n",
              "      <td>0.0</td>\n",
              "      <td>1.0</td>\n",
              "      <td>0.0</td>\n",
              "      <td>0.0</td>\n",
              "      <td>0.0</td>\n",
              "      <td>0.0</td>\n",
              "      <td>1.0</td>\n",
              "    </tr>\n",
              "    <tr>\n",
              "      <th>3</th>\n",
              "      <td>-1.354473</td>\n",
              "      <td>0.267103</td>\n",
              "      <td>-0.146117</td>\n",
              "      <td>-0.218564</td>\n",
              "      <td>-0.836107</td>\n",
              "      <td>0.0</td>\n",
              "      <td>0.0</td>\n",
              "      <td>0.0</td>\n",
              "      <td>0.0</td>\n",
              "      <td>0.0</td>\n",
              "      <td>0.0</td>\n",
              "      <td>0.0</td>\n",
              "      <td>0.0</td>\n",
              "      <td>0.0</td>\n",
              "      <td>0.0</td>\n",
              "      <td>0.0</td>\n",
              "      <td>0.0</td>\n",
              "      <td>0.0</td>\n",
              "      <td>0.0</td>\n",
              "      <td>0.0</td>\n",
              "      <td>1.0</td>\n",
              "      <td>0.0</td>\n",
              "      <td>0.0</td>\n",
              "      <td>1.0</td>\n",
              "      <td>0.0</td>\n",
              "      <td>0.0</td>\n",
              "      <td>0.0</td>\n",
              "      <td>0.0</td>\n",
              "      <td>0.0</td>\n",
              "      <td>0.0</td>\n",
              "      <td>0.0</td>\n",
              "      <td>0.0</td>\n",
              "      <td>0.0</td>\n",
              "      <td>1.0</td>\n",
              "      <td>0.0</td>\n",
              "      <td>0.0</td>\n",
              "      <td>0.0</td>\n",
              "      <td>0.0</td>\n",
              "      <td>0.0</td>\n",
              "      <td>0.0</td>\n",
              "      <td>0.0</td>\n",
              "      <td>0.0</td>\n",
              "      <td>0.0</td>\n",
              "      <td>0.0</td>\n",
              "      <td>0.0</td>\n",
              "      <td>0.0</td>\n",
              "      <td>0.0</td>\n",
              "      <td>1.0</td>\n",
              "      <td>0.0</td>\n",
              "      <td>0.0</td>\n",
              "      <td>0.0</td>\n",
              "      <td>0.0</td>\n",
              "      <td>0.0</td>\n",
              "      <td>0.0</td>\n",
              "      <td>1.0</td>\n",
              "      <td>0.0</td>\n",
              "      <td>0.0</td>\n",
              "      <td>1.0</td>\n",
              "      <td>0.0</td>\n",
              "    </tr>\n",
              "    <tr>\n",
              "      <th>4</th>\n",
              "      <td>0.610315</td>\n",
              "      <td>0.511200</td>\n",
              "      <td>-0.146117</td>\n",
              "      <td>-0.218564</td>\n",
              "      <td>1.257786</td>\n",
              "      <td>0.0</td>\n",
              "      <td>0.0</td>\n",
              "      <td>0.0</td>\n",
              "      <td>0.0</td>\n",
              "      <td>0.0</td>\n",
              "      <td>0.0</td>\n",
              "      <td>0.0</td>\n",
              "      <td>0.0</td>\n",
              "      <td>0.0</td>\n",
              "      <td>0.0</td>\n",
              "      <td>0.0</td>\n",
              "      <td>1.0</td>\n",
              "      <td>0.0</td>\n",
              "      <td>0.0</td>\n",
              "      <td>0.0</td>\n",
              "      <td>0.0</td>\n",
              "      <td>0.0</td>\n",
              "      <td>0.0</td>\n",
              "      <td>1.0</td>\n",
              "      <td>0.0</td>\n",
              "      <td>0.0</td>\n",
              "      <td>0.0</td>\n",
              "      <td>0.0</td>\n",
              "      <td>0.0</td>\n",
              "      <td>0.0</td>\n",
              "      <td>0.0</td>\n",
              "      <td>0.0</td>\n",
              "      <td>0.0</td>\n",
              "      <td>1.0</td>\n",
              "      <td>0.0</td>\n",
              "      <td>0.0</td>\n",
              "      <td>0.0</td>\n",
              "      <td>0.0</td>\n",
              "      <td>0.0</td>\n",
              "      <td>0.0</td>\n",
              "      <td>0.0</td>\n",
              "      <td>0.0</td>\n",
              "      <td>1.0</td>\n",
              "      <td>0.0</td>\n",
              "      <td>0.0</td>\n",
              "      <td>0.0</td>\n",
              "      <td>0.0</td>\n",
              "      <td>0.0</td>\n",
              "      <td>0.0</td>\n",
              "      <td>0.0</td>\n",
              "      <td>0.0</td>\n",
              "      <td>0.0</td>\n",
              "      <td>0.0</td>\n",
              "      <td>0.0</td>\n",
              "      <td>0.0</td>\n",
              "      <td>1.0</td>\n",
              "      <td>0.0</td>\n",
              "      <td>0.0</td>\n",
              "      <td>1.0</td>\n",
              "    </tr>\n",
              "  </tbody>\n",
              "</table>\n",
              "</div>"
            ],
            "text/plain": [
              "        Age  Final weight  Capital-gain  ...  x0_ Wife  x0_ Female  x0_ Male\n",
              "0 -1.500012      2.204075     -0.146117  ...       0.0         0.0       1.0\n",
              "1 -1.572782     -0.104216     -0.146117  ...       0.0         1.0       0.0\n",
              "2 -0.990623      1.503864     -0.146117  ...       0.0         0.0       1.0\n",
              "3 -1.354473      0.267103     -0.146117  ...       0.0         1.0       0.0\n",
              "4  0.610315      0.511200     -0.146117  ...       0.0         0.0       1.0\n",
              "\n",
              "[5 rows x 59 columns]"
            ]
          },
          "metadata": {
            "tags": []
          },
          "execution_count": 16
        }
      ]
    },
    {
      "cell_type": "markdown",
      "metadata": {
        "colab_type": "text",
        "id": "jZWQoaa2XG1Z",
        "pycharm": {
          "name": "#%% md\n"
        }
      },
      "source": [
        "# 3. Model selection (2 points)"
      ]
    },
    {
      "cell_type": "markdown",
      "metadata": {
        "colab_type": "text",
        "id": "JxwJyM9gXG1Z"
      },
      "source": [
        "Encodage de la classe cible sous forme d'entiers pour l'utiliser\n",
        "avec les algorithmes de scikit-learn. Vous devez avoir 2 classes."
      ]
    },
    {
      "cell_type": "code",
      "metadata": {
        "colab_type": "code",
        "id": "mXfDgss4XG1a",
        "pycharm": {
          "is_executing": false
        },
        "colab": {
          "base_uri": "https://localhost:8080/",
          "height": 34
        },
        "outputId": "1278fa8a-3619-4c04-b78e-b242fbb4407a"
      },
      "source": [
        "from sklearn.preprocessing import LabelEncoder\n",
        "y_train = X_train['over 50k']\n",
        "X_train = X_train.drop('over 50k',axis=1)\n",
        "target_label = LabelEncoder()\n",
        "y_train_label = target_label.fit_transform(y_train)\n",
        "print(target_label.classes_)"
      ],
      "execution_count": 17,
      "outputs": [
        {
          "output_type": "stream",
          "text": [
            "[0 1]\n"
          ],
          "name": "stdout"
        }
      ]
    },
    {
      "cell_type": "markdown",
      "metadata": {
        "colab_type": "text",
        "id": "5ekhKj0cXG1e"
      },
      "source": [
        "## 3.1 Ensemble de validation (0.5 point)\n",
        "Pour comparer différents modèles entre eux, on ne peut pas utiliser\n",
        "l'ensemble de test, sinon on serait tenté de garder le modèle correspondant le mieux à l'ensemble de test ce qui pourrait conduire à l'overfitting.\n",
        "\n",
        "Il est d'usage de créer un nouvel ensemble de la taille de l'ensemble de test, l'ensemble de **validation**.\n",
        "\n",
        "###  Cross-validation\n",
        "\n",
        "La cross-validation est une méthode utile pour comparer la performance de différents modèles de machine learning **sans créer d'ensemble de validation**.\n",
        "\n",
        "Il existe différents types de cross-validation, la procédure la plus classique est la suivante:\n",
        "* Diviser aléatoirement l'ensemble d'entraînement en deux parties (90%/10% par exemple).\n",
        "* Entraîner le modèle sur la plus grande partie, et le tester sur l'autre partie.\n",
        "* Recommencer n fois\n",
        "* Calculer la moyenne et l'écart type des résultats\n",
        "\n",
        "Les avantages sont les suivants:\n",
        "* Considérer la totalité de l'ensemble d'entraînement pour l'évaluation (sans se priver de l'ensemble de validation)\n",
        "* Obtenir l'écart-type des résultats permet une meilleure évaluation de la précision du modèle.\n",
        "\n",
        "L'inconvénient principal est le temps de calcul, étant donné que l'on effectue l'apprentissage du modèle plusieurs fois, cette méthode peut être impossible pour des datasets contenant un grand nombre d'exemple (> 10e5)\n",
        "\n",
        "### Implémentation\n",
        "1. Implémenter la fonction `compare()`. Cette fonction effectue la crossvalidation pour différents modèles et retourne la moyenne et l'écart-type des métriques pour chaque modèle.\n",
        "\n"
      ]
    },
    {
      "cell_type": "code",
      "metadata": {
        "colab_type": "code",
        "id": "WF3S-utAXG1k",
        "pycharm": {
          "is_executing": false
        },
        "colab": {}
      },
      "source": [
        "from sklearn.model_selection import cross_validate\n",
        "def compare(models,X_train,y_train,nb_runs,scoring):\n",
        "    scores = []\n",
        "    for model in models:\n",
        "        scores.append(cross_validate(model, X_train, y_train, cv=nb_runs, scoring = scoring))\n",
        "    return scores"
      ],
      "execution_count": 0,
      "outputs": []
    },
    {
      "cell_type": "markdown",
      "metadata": {
        "id": "LhaHwyL27RuN",
        "colab_type": "text"
      },
      "source": [
        "## 3.2 Essai de modèle de sklearn (0.5 point)\n",
        "\n",
        "\n",
        "**Choisir au moins deux modèles permettant la classification binaire sur sklearn en plus du modèle implémenté dans la première partie du TP**.\n",
        "\n",
        "**En vous basant sur les différentes métriques retournées par la fonction `compare()`, concluez quant au modèle le plus performant.**\n",
        "\n",
        "Evaluez les modèles pour les différentes métriques proposées:\n",
        "* **log loss**: c'est la métrique d'évaluation de kaggle\n",
        "* **precision**: correspond à la qualité de la prédiction, le nombre de classes correctement prédites par le nombre de prédiction total\n",
        "* **recall**: le nombre d'éléments appartenant à une classe, identifiés comme tel, divisé par le nombre total des éléments de cette classe.\n",
        "* **f-score**: une moyenne de la precision et du recall\n",
        "\n",
        "**Remarque: precision et recall sont deux mesures complémentaires pour l'évaluation d'un modèle de classification.**\n",
        "\n",
        "Dans le cas d'une classification binaire avec un déséquilibre de la classe cible important, (90%/10%), en évaluant le résultat de la classification avec l'accuracy (nombre de prédictions correctes divisé par le nombre de prédictions total), on peut obtenir un très bon score (90% d'accuracy) en choisissant de prédire systématiquement la classe majoritaire.\n",
        "\n",
        "Dans un tel cas, la precision serait élevée de même, mais le recall serait très bas , nous indiquant la médiocrité de notre modèle.\n"
      ]
    },
    {
      "cell_type": "code",
      "metadata": {
        "pycharm": {
          "is_executing": false,
          "name": "#%%\n"
        },
        "id": "D1N4LhLK7RuP",
        "colab_type": "code",
        "colab": {
          "base_uri": "https://localhost:8080/",
          "height": 538
        },
        "outputId": "d12dacb5-c906-4299-c205-1160d423ea28"
      },
      "source": [
        "from sklearn.ensemble import RandomForestClassifier\n",
        "from sklearn.tree import DecisionTreeClassifier\n",
        "from sklearn.neural_network import MLPClassifier\n",
        "from sklearn.naive_bayes import GaussianNB\n",
        "\n",
        "nb_run = 3\n",
        "X_train_preprocess =  X_train\n",
        "models = [\n",
        "    SoftmaxClassifier(), # le modele que vous avez implémenté plus haut\n",
        "    RandomForestClassifier(n_estimators = 100),\n",
        "    DecisionTreeClassifier(random_state=0),\n",
        "    MLPClassifier(alpha=1, max_iter=200),\n",
        "    GaussianNB(),\n",
        "\n",
        "]\n",
        "\n",
        "scoring = ['neg_log_loss', 'precision_macro','recall_macro','f1_macro']\n",
        "\n",
        "compare(models,X_train_preprocess,y_train_label,nb_run, scoring)"
      ],
      "execution_count": 19,
      "outputs": [
        {
          "output_type": "execute_result",
          "data": {
            "text/plain": [
              "[{'fit_time': array([296.91384649, 292.02436662, 296.95193052]),\n",
              "  'score_time': array([0.70667291, 0.69144511, 0.70537567]),\n",
              "  'test_f1_macro': array([0.76464588, 0.77188981, 0.76919904]),\n",
              "  'test_neg_log_loss': array([-0.32919723, -0.3301139 , -0.33303305]),\n",
              "  'test_precision_macro': array([0.79890793, 0.79787818, 0.79867492]),\n",
              "  'test_recall_macro': array([0.74368573, 0.75429037, 0.75007695])},\n",
              " {'fit_time': array([2.38361645, 2.41957331, 2.4651134 ]),\n",
              "  'score_time': array([1.09362316, 1.04941392, 1.07869792]),\n",
              "  'test_f1_macro': array([0.78357514, 0.78252297, 0.78042272]),\n",
              "  'test_neg_log_loss': array([-0.38745683, -0.36497511, -0.35858491]),\n",
              "  'test_precision_macro': array([0.80384129, 0.80000041, 0.80177041]),\n",
              "  'test_recall_macro': array([0.76866568, 0.76923085, 0.76497963])},\n",
              " {'fit_time': array([0.19910121, 0.18881536, 0.18981099]),\n",
              "  'score_time': array([0.0367527 , 0.03409576, 0.03376484]),\n",
              "  'test_f1_macro': array([0.75064339, 0.73915414, 0.74661475]),\n",
              "  'test_neg_log_loss': array([-6.29741031, -6.60890242, -6.41263054]),\n",
              "  'test_precision_macro': array([0.74845571, 0.73633333, 0.74384773]),\n",
              "  'test_recall_macro': array([0.75295357, 0.74219978, 0.74958722])},\n",
              " {'fit_time': array([6.66531396, 4.87080359, 6.39806557]),\n",
              "  'score_time': array([0.09170222, 0.09919119, 0.09864378]),\n",
              "  'test_f1_macro': array([0.77923124, 0.77824268, 0.78405534]),\n",
              "  'test_neg_log_loss': array([-0.31248019, -0.31485283, -0.31780915]),\n",
              "  'test_precision_macro': array([0.82560601, 0.80987001, 0.80898837]),\n",
              "  'test_recall_macro': array([0.75312947, 0.75787267, 0.76666026])},\n",
              " {'fit_time': array([0.04114103, 0.03224659, 0.03524709]),\n",
              "  'score_time': array([0.06549788, 0.05315518, 0.054564  ]),\n",
              "  'test_f1_macro': array([0.67713057, 0.64148277, 0.62741985]),\n",
              "  'test_neg_log_loss': array([-4.91325622, -6.41775968, -6.94895434]),\n",
              "  'test_precision_macro': array([0.69560098, 0.68316764, 0.67367397]),\n",
              "  'test_recall_macro': array([0.76981787, 0.75085266, 0.73699403])}]"
            ]
          },
          "metadata": {
            "tags": []
          },
          "execution_count": 19
        }
      ]
    },
    {
      "cell_type": "markdown",
      "metadata": {
        "colab_type": "text",
        "id": "GMqcqhGxXG1j"
      },
      "source": [
        "Justification pour le meilleur modèle\n",
        "\n",
        "Nous avons tout simplement choisi le modèle MLPClassifier, puisqu'il donne de meilleures performances."
      ]
    },
    {
      "cell_type": "markdown",
      "metadata": {
        "colab_type": "text",
        "id": "_th8iyQ2XG1u"
      },
      "source": [
        "## 3.3 Matrice de confusion (0.5 point)\n",
        "\n",
        "La matrice de confusion A est telle que $A_{i,j}$ correspond au nombre d'exemples de la classe i classifié comme appartenant à la classe j.\n",
        "\n",
        "Entrainez le modèle sélectionné sur la totalité de l'ensemble d'entraînement.\n",
        "A l'aide de la matrice de confusion et de la distribution des classes, analysez plus en détail les performances du modèle choisi et **justifiez** les."
      ]
    },
    {
      "cell_type": "code",
      "metadata": {
        "colab_type": "code",
        "id": "k_jCDj02XG1v",
        "pycharm": {
          "is_executing": false
        },
        "colab": {}
      },
      "source": [
        "# Train selected model\n",
        "\n",
        "selected_model = MLPClassifier(alpha=1, max_iter=500).fit(X_train_preprocess,y_train_label)\n",
        "y_pred = selected_model.predict(X_train_preprocess)"
      ],
      "execution_count": 0,
      "outputs": []
    },
    {
      "cell_type": "markdown",
      "metadata": {
        "colab_type": "text",
        "id": "ncXnd9W4XG1-"
      },
      "source": [
        "###### Matrice de confusion"
      ]
    },
    {
      "cell_type": "code",
      "metadata": {
        "colab_type": "code",
        "id": "fV5tkE0bXG1_",
        "pycharm": {
          "is_executing": false
        },
        "colab": {
          "base_uri": "https://localhost:8080/",
          "height": 112
        },
        "outputId": "6559c764-50b0-4d1c-9dbf-a5ca79865961"
      },
      "source": [
        "from sklearn.metrics import confusion_matrix\n",
        "pd.DataFrame(confusion_matrix(y_train_label, y_pred), columns = target_label.classes_, index = target_label.classes_)"
      ],
      "execution_count": 25,
      "outputs": [
        {
          "output_type": "execute_result",
          "data": {
            "text/html": [
              "<div>\n",
              "<style scoped>\n",
              "    .dataframe tbody tr th:only-of-type {\n",
              "        vertical-align: middle;\n",
              "    }\n",
              "\n",
              "    .dataframe tbody tr th {\n",
              "        vertical-align: top;\n",
              "    }\n",
              "\n",
              "    .dataframe thead th {\n",
              "        text-align: right;\n",
              "    }\n",
              "</style>\n",
              "<table border=\"1\" class=\"dataframe\">\n",
              "  <thead>\n",
              "    <tr style=\"text-align: right;\">\n",
              "      <th></th>\n",
              "      <th>0</th>\n",
              "      <th>1</th>\n",
              "    </tr>\n",
              "  </thead>\n",
              "  <tbody>\n",
              "    <tr>\n",
              "      <th>0</th>\n",
              "      <td>23311</td>\n",
              "      <td>1638</td>\n",
              "    </tr>\n",
              "    <tr>\n",
              "      <th>1</th>\n",
              "      <td>3081</td>\n",
              "      <td>4693</td>\n",
              "    </tr>\n",
              "  </tbody>\n",
              "</table>\n",
              "</div>"
            ],
            "text/plain": [
              "       0     1\n",
              "0  23311  1638\n",
              "1   3081  4693"
            ]
          },
          "metadata": {
            "tags": []
          },
          "execution_count": 25
        }
      ]
    },
    {
      "cell_type": "markdown",
      "metadata": {
        "colab_type": "text",
        "id": "2HyBqtMjXG2B"
      },
      "source": [
        "###### Distribution des classes"
      ]
    },
    {
      "cell_type": "code",
      "metadata": {
        "colab_type": "code",
        "id": "Z_emYEYKXG2B",
        "pycharm": {
          "is_executing": false
        },
        "colab": {
          "base_uri": "https://localhost:8080/",
          "height": 300
        },
        "outputId": "bbb1c1c6-e1f4-499a-a388-9c057c209180"
      },
      "source": [
        "import matplotlib.pyplot as plt \n",
        "print(target_label.classes_)\n",
        "pd.Series(y_train_label).hist()"
      ],
      "execution_count": 26,
      "outputs": [
        {
          "output_type": "stream",
          "text": [
            "[0 1]\n"
          ],
          "name": "stdout"
        },
        {
          "output_type": "execute_result",
          "data": {
            "text/plain": [
              "<matplotlib.axes._subplots.AxesSubplot at 0x7f8081187278>"
            ]
          },
          "metadata": {
            "tags": []
          },
          "execution_count": 26
        },
        {
          "output_type": "display_data",
          "data": {
            "image/png": "[encoded data removed]",
            "text/plain": [
              "<Figure size 432x288 with 1 Axes>"
            ]
          },
          "metadata": {
            "tags": []
          }
        }
      ]
    },
    {
      "cell_type": "markdown",
      "metadata": {
        "colab_type": "text",
        "id": "ee-L7b131tf3"
      },
      "source": [
        "Justification avec la matrice de confusion et la distribution des classes\n",
        "\n",
        "On voit bien que la distribution entre les classes n'est pas uniforme et il semble que la classe 1., du fait qu'il y a beaucoup moins d'exemplaire, a une plus haut taux d'erreur. Le modèle reconnait bien la classe 0.,  mais vraiment moins bien la deuxième."
      ]
    },
    {
      "cell_type": "markdown",
      "metadata": {
        "colab_type": "text",
        "id": "5lfReUdgXG2I"
      },
      "source": [
        "## 3.4 Soumission (0.5 point)\n",
        "\n",
        "Enfin, effectuez la prédiction sur l'ensemble de test et joignez les résultats au rendu du TP. Vous devez soumettre vos résultats sur kaggle. Vous pouvez choisir jusqu'à deux modèles. Par défaut, les deux dernières soumissions sont prises. La justification (les section 3.2 et 3.3) sont seulement demandée pour le meilleur modèle selon vous.\n",
        "\n",
        "**ATTENTION:** N'oubliez pas de respecter le format du fichier de soumission. En cas d'erreur, Kaggle score 0.0 pour la soumission."
      ]
    },
    {
      "cell_type": "code",
      "metadata": {
        "colab_type": "code",
        "id": "-deVgNIpXG2J",
        "colab": {}
      },
      "source": [
        "# best_model_1 = \n",
        "# pred_test = pd.Series(best_model_1.transform(X_test_preprocess))\n",
        "# pred_test.to_csv(\"test_prediction_1.csv\",index = False)\n",
        "\n",
        "# best_model_2 = \n",
        "# pred_test = pd.Series(best_model_2.transform(X_test_preprocess))\n",
        "# pred_test.to_csv(\"test_prediction_2.csv\",index = False)"
      ],
      "execution_count": 0,
      "outputs": []
    },
    {
      "cell_type": "code",
      "metadata": {
        "id": "wZfb0Cq2BNzX",
        "colab_type": "code",
        "colab": {}
      },
      "source": [
        ""
      ],
      "execution_count": 0,
      "outputs": []
    }
  ]
}